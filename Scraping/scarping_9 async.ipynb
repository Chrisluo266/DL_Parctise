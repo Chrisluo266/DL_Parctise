{
 "cells": [
  {
   "cell_type": "markdown",
   "metadata": {},
   "source": [
    "<h1>Normal</h1>"
   ]
  },
  {
   "cell_type": "code",
   "execution_count": 4,
   "metadata": {},
   "outputs": [
    {
     "name": "stdout",
     "output_type": "stream",
     "text": [
      "https://morvanzhou.github.io/\n",
      "https://morvanzhou.github.io/\n",
      "Normal total time : 0.7555420398712158\n"
     ]
    }
   ],
   "source": [
    "import requests\n",
    "import time\n",
    "URL = \"https://morvanzhou.github.io\"\n",
    "\n",
    "def normal():\n",
    "    for i in range(2):\n",
    "        r = requests.get(URL)\n",
    "        url = r.url\n",
    "        print(url)\n",
    "t1 =time.time()\n",
    "normal()\n",
    "print(\"Normal total time :\",time.time()-t1)"
   ]
  },
  {
   "cell_type": "markdown",
   "metadata": {},
   "source": [
    "## AIO"
   ]
  },
  {
   "cell_type": "code",
   "execution_count": 17,
   "metadata": {},
   "outputs": [
    {
     "name": "stderr",
     "output_type": "stream",
     "text": [
      "SSL error in data received\n",
      "protocol: <asyncio.sslproto.SSLProtocol object at 0x0000026DA204AE10>\n",
      "transport: <_SelectorSocketTransport fd=1384 read=polling write=<idle, bufsize=0>>\n",
      "Traceback (most recent call last):\n",
      "  File \"F:\\Anaconda\\lib\\asyncio\\sslproto.py\", line 526, in data_received\n",
      "    ssldata, appdata = self._sslpipe.feed_ssldata(data)\n",
      "  File \"F:\\Anaconda\\lib\\asyncio\\sslproto.py\", line 207, in feed_ssldata\n",
      "    self._sslobj.unwrap()\n",
      "  File \"F:\\Anaconda\\lib\\ssl.py\", line 767, in unwrap\n",
      "    return self._sslobj.shutdown()\n",
      "ssl.SSLError: [SSL: KRB5_S_INIT] application data after close notify (_ssl.c:2592)\n",
      "SSL error in data received\n",
      "protocol: <asyncio.sslproto.SSLProtocol object at 0x0000026DA14D3C18>\n",
      "transport: <_SelectorSocketTransport fd=1320 read=polling write=<idle, bufsize=0>>\n",
      "Traceback (most recent call last):\n",
      "  File \"F:\\Anaconda\\lib\\asyncio\\sslproto.py\", line 526, in data_received\n",
      "    ssldata, appdata = self._sslpipe.feed_ssldata(data)\n",
      "  File \"F:\\Anaconda\\lib\\asyncio\\sslproto.py\", line 207, in feed_ssldata\n",
      "    self._sslobj.unwrap()\n",
      "  File \"F:\\Anaconda\\lib\\ssl.py\", line 767, in unwrap\n",
      "    return self._sslobj.shutdown()\n",
      "ssl.SSLError: [SSL: KRB5_S_INIT] application data after close notify (_ssl.c:2592)\n"
     ]
    },
    {
     "name": "stdout",
     "output_type": "stream",
     "text": [
      "[URL('https://morvanzhou.github.io'), URL('https://morvanzhou.github.io')]\n",
      "AIO total time : 0.6159837245941162\n"
     ]
    }
   ],
   "source": [
    "import aiohttp\n",
    "import asyncio\n",
    "import time\n",
    "URL = \"https://morvanzhou.github.io\"\n",
    "async def job(session,url):\n",
    "    response = await session.get(url)\n",
    "    return response.url\n",
    "async def main(loop):\n",
    "    async with aiohttp.ClientSession() as session:\n",
    "        tasks = [loop.create_task(job(session,URL)) for _ in range(2)]\n",
    "        finished,unfinished = await asyncio.wait(tasks)\n",
    "        all_results = [r.result() for r in finished]\n",
    "        print(all_results)\n",
    "t1 = time.time()\n",
    "loop = asyncio.get_event_loop()\n",
    "await main(loop)\n",
    "print(\"AIO total time :\",time.time()-t1)"
   ]
  }
 ],
 "metadata": {
  "kernelspec": {
   "display_name": "Python 3",
   "language": "python",
   "name": "python3"
  },
  "language_info": {
   "codemirror_mode": {
    "name": "ipython",
    "version": 3
   },
   "file_extension": ".py",
   "mimetype": "text/x-python",
   "name": "python",
   "nbconvert_exporter": "python",
   "pygments_lexer": "ipython3",
   "version": "3.7.1"
  }
 },
 "nbformat": 4,
 "nbformat_minor": 2
}
