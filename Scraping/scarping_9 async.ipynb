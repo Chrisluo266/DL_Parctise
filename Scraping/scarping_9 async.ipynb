{
 "cells": [
  {
   "cell_type": "markdown",
   "metadata": {},
   "source": [
    "<h1>Normal</h1>"
   ]
  },
  {
   "cell_type": "code",
   "execution_count": 4,
   "metadata": {},
   "outputs": [
    {
     "name": "stdout",
     "output_type": "stream",
     "text": [
      "https://www.bilibili.com/\n",
      "https://www.bilibili.com/\n",
      "Normal total time : 0.39811158180236816\n"
     ]
    }
   ],
   "source": [
    "import requests\n",
    "import time\n",
    "URL = \"https://www.bilibili.com\"\n",
    "\n",
    "def normal():\n",
    "    for i in range(2):\n",
    "        r = requests.get(URL)\n",
    "        url = r.url\n",
    "        print(url)\n",
    "t1 =time.time()\n",
    "normal()\n",
    "print(\"Normal total time :\",time.time()-t1)"
   ]
  },
  {
   "cell_type": "markdown",
   "metadata": {},
   "source": [
    "# Asyncio"
   ]
  },
  {
   "cell_type": "code",
   "execution_count": 5,
   "metadata": {},
   "outputs": [
    {
     "name": "stdout",
     "output_type": "stream",
     "text": [
      "[URL('https://www.bilibili.com'), URL('https://www.bilibili.com')]\n",
      "AIO total time : 0.12389659881591797\n"
     ]
    },
    {
     "name": "stderr",
     "output_type": "stream",
     "text": [
      "SSL error in data received\n",
      "protocol: <asyncio.sslproto.SSLProtocol object at 0x0000028B90B94EF0>\n",
      "transport: <_SelectorSocketTransport fd=1216 read=polling write=<idle, bufsize=0>>\n",
      "Traceback (most recent call last):\n",
      "  File \"F:\\Anaconda\\lib\\asyncio\\sslproto.py\", line 526, in data_received\n",
      "    ssldata, appdata = self._sslpipe.feed_ssldata(data)\n",
      "  File \"F:\\Anaconda\\lib\\asyncio\\sslproto.py\", line 207, in feed_ssldata\n",
      "    self._sslobj.unwrap()\n",
      "  File \"F:\\Anaconda\\lib\\ssl.py\", line 767, in unwrap\n",
      "    return self._sslobj.shutdown()\n",
      "ssl.SSLError: [SSL: KRB5_S_INIT] application data after close notify (_ssl.c:2592)\n"
     ]
    }
   ],
   "source": [
    "import aiohttp\n",
    "import asyncio\n",
    "import time\n",
    "URL = \"https://www.bilibili.com\"\n",
    "async def job(session,url):\n",
    "    response = await session.get(url)\n",
    "    return response.url\n",
    "async def main(loop):\n",
    "    async with aiohttp.ClientSession() as session:\n",
    "        tasks = [loop.create_task(job(session,URL)) for _ in range(2)]\n",
    "        finished,unfinished = await asyncio.wait(tasks)\n",
    "        all_results = [r.result() for r in finished]\n",
    "        print(all_results)\n",
    "t1 = time.time()\n",
    "loop = asyncio.get_event_loop()\n",
    "await main(loop)\n",
    "print(\"AIO total time :\",time.time()-t1)"
   ]
  }
 ],
 "metadata": {
  "kernelspec": {
   "display_name": "Python 3",
   "language": "python",
   "name": "python3"
  },
  "language_info": {
   "codemirror_mode": {
    "name": "ipython",
    "version": 3
   },
   "file_extension": ".py",
   "mimetype": "text/x-python",
   "name": "python",
   "nbconvert_exporter": "python",
   "pygments_lexer": "ipython3",
   "version": "3.7.1"
  },
  "toc": {
   "base_numbering": 1,
   "nav_menu": {},
   "number_sections": true,
   "sideBar": true,
   "skip_h1_title": false,
   "title_cell": "Table of Contents",
   "title_sidebar": "Contents",
   "toc_cell": false,
   "toc_position": {},
   "toc_section_display": true,
   "toc_window_display": false
  }
 },
 "nbformat": 4,
 "nbformat_minor": 2
}
