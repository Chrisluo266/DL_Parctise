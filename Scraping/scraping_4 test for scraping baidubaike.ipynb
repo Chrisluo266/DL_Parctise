{
 "cells": [
  {
   "cell_type": "code",
   "execution_count": 1,
   "metadata": {},
   "outputs": [],
   "source": [
    "from bs4 import BeautifulSoup\n",
    "from urllib.request import urlopen\n",
    "import re\n",
    "import random"
   ]
  },
  {
   "cell_type": "code",
   "execution_count": 3,
   "metadata": {},
   "outputs": [
    {
     "name": "stdout",
     "output_type": "stream",
     "text": [
      "[0/30]Title: 复仇者联盟\n",
      "[1/30]Title: 沃特尔·派瑞兹\n",
      "[2/30]Title: 杰夫·怀特\n",
      "[3/30]Title: 复仇者联盟\n",
      "[4/30]Title: 女招待\n",
      "[5/30]Title: 内森·菲利安\n",
      "[6/30]Title: 电视系列剧\n",
      "[7/30]Title: 史蒂文·斯皮尔伯格\n",
      "[8/30]Title: 外星人E.T.\n",
      "[9/30]Title: 丹尼斯·穆伦\n",
      "[10/30]Title: 星球大战6：绝地大反击\n",
      "[11/30]Title: 卢克·天行者\n",
      "[12/30]Title: 科洛桑\n",
      "[13/30]Title: 克隆人的进攻\n",
      "[14/30]Title: 纳布\n",
      "[15/30]Title: 贸易联盟\n",
      "[16/30]Title: 商业\n",
      "[17/30]Title: 隋唐大运河\n",
      "[18/30]Title: 济水\n",
      "[19/30]Title: 大野泽\n",
      "[20/30]Title: 王禹偁\n",
      "[21/30]Title: 白居易\n",
      "[22/30]Title: 白居易\n",
      "[23/30]Title: 对酒五首\n",
      "[24/30]Title: 洛阳\n",
      "[25/30]Title: 郑卢高速公路\n",
      "[26/30]Title: 涧口乡\n",
      "[27/30]Title: 洛宁县\n",
      "[28/30]Title: 洛阳\n",
      "[29/30]Title: 河南林业职业学院\n",
      "结束\n"
     ]
    }
   ],
   "source": [
    "base_url = \"https://baike.baidu.com\"\n",
    "items = [\"/item/%E5%A4%8D%E4%BB%87%E8%80%85%E8%81%94%E7%9B%9F/22347?fr=aladdin\"]\n",
    "\n",
    "epoch = 30\n",
    "cur_count = 0\n",
    "while(cur_count<epoch):\n",
    "    if len(items) <= 0:\n",
    "        break\n",
    "    item = items.pop()\n",
    "    html = urlopen(base_url+item).read().decode(\"utf-8\")\n",
    "    soup = BeautifulSoup(html,features=\"lxml\")\n",
    "    title = soup.find(\"h1\").getText()\n",
    "    print(\"[{0}/{1}]Title: {2}\".format(cur_count,epoch,title))\n",
    "    refitems = soup.find_all(\"a\",{\"target\":\"_blank\",\n",
    "                       \"href\":re.compile(\"/item/[%]+.+\")})\n",
    "    refcount = len(refitems)\n",
    "    if refcount>0:\n",
    "        retry_count = 10\n",
    "        find_count = 2\n",
    "        while(retry_count>=0 and find_count>0):\n",
    "            retry_count -= 1\n",
    "            ref_item_index = random.randrange(0,refcount)\n",
    "            refitem = refitems[ref_item_index]\n",
    "            item_url = refitem[\"href\"]\n",
    "            label = refitem.getText().strip()\n",
    "            if label == \"\" \\\n",
    "            or label.find(\"本人编辑\")>=0 \\\n",
    "            or label.find(\"义项\")>=0 \\\n",
    "            or label == \"多义词\" \\\n",
    "            or label == title:\\\n",
    "                continue\n",
    "            try:\n",
    "                urlopen(base_url+item_url)\n",
    "                if item_url in items:\n",
    "                    continue\n",
    "                items.append(item_url)\n",
    "                find_count -= 1\n",
    "            except:\n",
    "                continue              \n",
    "    cur_count = cur_count + 1\n",
    "print(\"结束\")"
   ]
  }
 ],
 "metadata": {
  "kernelspec": {
   "display_name": "Python 3",
   "language": "python",
   "name": "python3"
  },
  "language_info": {
   "codemirror_mode": {
    "name": "ipython",
    "version": 3
   },
   "file_extension": ".py",
   "mimetype": "text/x-python",
   "name": "python",
   "nbconvert_exporter": "python",
   "pygments_lexer": "ipython3",
   "version": "3.7.1"
  },
  "toc": {
   "base_numbering": 1,
   "nav_menu": {},
   "number_sections": true,
   "sideBar": true,
   "skip_h1_title": false,
   "title_cell": "Table of Contents",
   "title_sidebar": "Contents",
   "toc_cell": false,
   "toc_position": {},
   "toc_section_display": true,
   "toc_window_display": false
  }
 },
 "nbformat": 4,
 "nbformat_minor": 2
}
