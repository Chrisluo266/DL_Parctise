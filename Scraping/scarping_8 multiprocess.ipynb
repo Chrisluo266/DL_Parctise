{
 "cells": [
  {
   "cell_type": "code",
   "execution_count": 4,
   "metadata": {},
   "outputs": [],
   "source": [
    "import multiprocessfunc as mulfunc\n",
    "import time\n",
    "import multiprocessing as mp"
   ]
  },
  {
   "cell_type": "code",
   "execution_count": 5,
   "metadata": {},
   "outputs": [],
   "source": [
    "base_url = \"https://morvanzhou.github.io/\""
   ]
  },
  {
   "cell_type": "markdown",
   "metadata": {},
   "source": [
    "# Normal"
   ]
  },
  {
   "cell_type": "code",
   "execution_count": 11,
   "metadata": {},
   "outputs": [
    {
     "name": "stdout",
     "output_type": "stream",
     "text": [
      "\n",
      "Distributed Crawling...\n",
      "\n",
      "Distributed Parsing...\n",
      "\n",
      "Analysing...\n",
      "1 教程 https://morvanzhou.github.io/\n",
      "\n",
      "Distributed Crawling...\n",
      "\n",
      "Distributed Parsing...\n",
      "\n",
      "Analysing...\n",
      "2 计算机视觉 教程系列 https://morvanzhou.github.io/tutorials/machine-learning/computer-vision/\n",
      "3 Why? https://morvanzhou.github.io/tutorials/data-manipulation/scraping/1-00-why/\n",
      "4 强化学习 Reinforcement Learning 教程系列 https://morvanzhou.github.io/tutorials/machine-learning/reinforcement-learning/\n",
      "5 Python基础 教程系列 https://morvanzhou.github.io/tutorials/python-basic/\n",
      "6 multiprocessing 多进程教程系列 https://morvanzhou.github.io/tutorials/python-basic/multiprocessing/\n",
      "7 数据处理教程系列 https://morvanzhou.github.io/tutorials/data-manipulation/\n",
      "8 Sklearn 通用机器学习 教程系列 https://morvanzhou.github.io/tutorials/machine-learning/sklearn/\n",
      "9 Tkinter GUI 教程系列 https://morvanzhou.github.io/tutorials/python-basic/tkinter/\n",
      "10 Pytorch 教程系列 https://morvanzhou.github.io/tutorials/machine-learning/torch/\n",
      "11 关于莫烦 https://morvanzhou.github.io/about/\n",
      "12 有趣的机器学习系列 https://morvanzhou.github.io/tutorials/machine-learning/ML-intro/\n",
      "13 迁移学习 Transfer Learning https://morvanzhou.github.io/tutorials/machine-learning/tensorflow/5-16-transfer-learning/\n",
      "14 Git 版本管理 教程系列 https://morvanzhou.github.io/tutorials/others/git/\n",
      "15 推荐学习顺序 https://morvanzhou.github.io/learning-steps/\n",
      "16 机器学习实践 https://morvanzhou.github.io/tutorials/machine-learning/ML-practice/\n",
      "17 高级爬虫: 高效无忧的 Scrapy 爬虫库 https://morvanzhou.github.io/tutorials/data-manipulation/scraping/5-02-scrapy/\n",
      "18 为了更优秀 https://morvanzhou.github.io/support/\n",
      "19 其他教学系列 https://morvanzhou.github.io/tutorials/others/\n",
      "20 Matplotlib 画图教程系列 https://morvanzhou.github.io/tutorials/data-manipulation/plt/\n",
      "21 迁移学习 Transfer Learning https://morvanzhou.github.io/tutorials/machine-learning/ML-intro/2-9-transfer-learning/\n",
      "22 进化算法 Evolutionary Strategies 教程系列 https://morvanzhou.github.io/tutorials/machine-learning/evolutionary-algorithm/\n",
      "23 Keras 教程系列 https://morvanzhou.github.io/tutorials/machine-learning/keras/\n",
      "24 说吧~ https://morvanzhou.github.io/discuss/\n",
      "25 Numpy & Pandas 教程系列 https://morvanzhou.github.io/tutorials/data-manipulation/np-pd/\n",
      "26 Threading 多线程教程系列 https://morvanzhou.github.io/tutorials/python-basic/threading/\n",
      "27 Linux 简易教学 https://morvanzhou.github.io/tutorials/others/linux-basic/\n",
      "28 网页爬虫教程系列 https://morvanzhou.github.io/tutorials/data-manipulation/scraping/\n",
      "29 Theano 教程系列 https://morvanzhou.github.io/tutorials/machine-learning/theano/\n",
      "30 基础教程系列 https://morvanzhou.github.io/tutorials/python-basic/basic/\n",
      "31 Tensorflow 教程系列 https://morvanzhou.github.io/tutorials/machine-learning/tensorflow/\n",
      "32 机器学习系列 https://morvanzhou.github.io/tutorials/machine-learning/\n",
      "33 高级爬虫: 让 Selenium 控制你的浏览器帮你爬 https://morvanzhou.github.io/tutorials/data-manipulation/scraping/5-01-selenium/\n",
      "34 近期更新 https://morvanzhou.github.io/recent-posts/\n",
      "Total Time: 24.7 s\n"
     ]
    }
   ],
   "source": [
    "#normal\n",
    "unseen = set([base_url,])\n",
    "seen = set()\n",
    "count,t1 = 1,time.time()\n",
    "\n",
    "while len(unseen) != 0:\n",
    "    if len(seen) > 20:\n",
    "        break\n",
    "    print(\"\\nDistributed Crawling...\")\n",
    "    htmls = [mulfunc.crawl(url) for url in unseen]\n",
    "\n",
    "    print(\"\\nDistributed Parsing...\")\n",
    "    results = [mulfunc.parse(base_url,html) for html in htmls]\n",
    "    \n",
    "    print(\"\\nAnalysing...\")\n",
    "    seen.update(unseen)\n",
    "    unseen.clear()\n",
    "    \n",
    "    for title,page_urls,url in results:\n",
    "        print(count,title,url)\n",
    "        count +=1\n",
    "        unseen.update(page_urls-seen)\n",
    "print(\"Total Time: %.1f s\"%(time.time()-t1))"
   ]
  },
  {
   "cell_type": "markdown",
   "metadata": {},
   "source": [
    "<h1>Multiprocessing</h1>"
   ]
  },
  {
   "cell_type": "code",
   "execution_count": 12,
   "metadata": {},
   "outputs": [
    {
     "name": "stdout",
     "output_type": "stream",
     "text": [
      "\n",
      "Distributed Crawling...\n",
      "\n",
      "Distributed Parsing...\n",
      "\n",
      "Analysing...\n",
      "1 教程 https://morvanzhou.github.io/\n",
      "\n",
      "Distributed Crawling...\n",
      "\n",
      "Distributed Parsing...\n",
      "\n",
      "Analysing...\n",
      "2 计算机视觉 教程系列 https://morvanzhou.github.io/tutorials/machine-learning/computer-vision/\n",
      "3 Why? https://morvanzhou.github.io/tutorials/data-manipulation/scraping/1-00-why/\n",
      "4 强化学习 Reinforcement Learning 教程系列 https://morvanzhou.github.io/tutorials/machine-learning/reinforcement-learning/\n",
      "5 Python基础 教程系列 https://morvanzhou.github.io/tutorials/python-basic/\n",
      "6 multiprocessing 多进程教程系列 https://morvanzhou.github.io/tutorials/python-basic/multiprocessing/\n",
      "7 数据处理教程系列 https://morvanzhou.github.io/tutorials/data-manipulation/\n",
      "8 Sklearn 通用机器学习 教程系列 https://morvanzhou.github.io/tutorials/machine-learning/sklearn/\n",
      "9 Tkinter GUI 教程系列 https://morvanzhou.github.io/tutorials/python-basic/tkinter/\n",
      "10 Pytorch 教程系列 https://morvanzhou.github.io/tutorials/machine-learning/torch/\n",
      "11 关于莫烦 https://morvanzhou.github.io/about/\n",
      "12 有趣的机器学习系列 https://morvanzhou.github.io/tutorials/machine-learning/ML-intro/\n",
      "13 迁移学习 Transfer Learning https://morvanzhou.github.io/tutorials/machine-learning/tensorflow/5-16-transfer-learning/\n",
      "14 Git 版本管理 教程系列 https://morvanzhou.github.io/tutorials/others/git/\n",
      "15 推荐学习顺序 https://morvanzhou.github.io/learning-steps/\n",
      "16 机器学习实践 https://morvanzhou.github.io/tutorials/machine-learning/ML-practice/\n",
      "17 高级爬虫: 高效无忧的 Scrapy 爬虫库 https://morvanzhou.github.io/tutorials/data-manipulation/scraping/5-02-scrapy/\n",
      "18 为了更优秀 https://morvanzhou.github.io/support/\n",
      "19 其他教学系列 https://morvanzhou.github.io/tutorials/others/\n",
      "20 Matplotlib 画图教程系列 https://morvanzhou.github.io/tutorials/data-manipulation/plt/\n",
      "21 Keras 教程系列 https://morvanzhou.github.io/tutorials/machine-learning/keras/\n",
      "22 迁移学习 Transfer Learning https://morvanzhou.github.io/tutorials/machine-learning/ML-intro/2-9-transfer-learning/\n",
      "23 进化算法 Evolutionary Strategies 教程系列 https://morvanzhou.github.io/tutorials/machine-learning/evolutionary-algorithm/\n",
      "24 说吧~ https://morvanzhou.github.io/discuss/\n",
      "25 Numpy & Pandas 教程系列 https://morvanzhou.github.io/tutorials/data-manipulation/np-pd/\n",
      "26 Threading 多线程教程系列 https://morvanzhou.github.io/tutorials/python-basic/threading/\n",
      "27 Linux 简易教学 https://morvanzhou.github.io/tutorials/others/linux-basic/\n",
      "28 网页爬虫教程系列 https://morvanzhou.github.io/tutorials/data-manipulation/scraping/\n",
      "29 Theano 教程系列 https://morvanzhou.github.io/tutorials/machine-learning/theano/\n",
      "30 基础教程系列 https://morvanzhou.github.io/tutorials/python-basic/basic/\n",
      "31 Tensorflow 教程系列 https://morvanzhou.github.io/tutorials/machine-learning/tensorflow/\n",
      "32 机器学习系列 https://morvanzhou.github.io/tutorials/machine-learning/\n",
      "33 高级爬虫: 让 Selenium 控制你的浏览器帮你爬 https://morvanzhou.github.io/tutorials/data-manipulation/scraping/5-01-selenium/\n",
      "34 近期更新 https://morvanzhou.github.io/recent-posts/\n",
      "Total Time: 8.3 s\n"
     ]
    }
   ],
   "source": [
    "#Multiprocessing\n",
    "unseen = set([base_url,])\n",
    "seen = set()\n",
    "count,t1 = 1,time.time()\n",
    "pool = mp.Pool(4)\n",
    "\n",
    "while len(unseen) != 0:\n",
    "    if len(seen) > 20:\n",
    "        break\n",
    "    print(\"\\nDistributed Crawling...\")\n",
    "    crawl_jobs = [pool.apply_async(mulfunc.crawl, args=(url,)) for url in unseen]\n",
    "    htmls = [j.get() for j in crawl_jobs]\n",
    "    \n",
    "    print(\"\\nDistributed Parsing...\")\n",
    "    #在jupyter不能直接用def parse，并调用parse，会不兼容\n",
    "    parse_jobs = [pool.apply_async(mulfunc.parse, args=(base_url,html,)) for html in htmls]\n",
    "    results = [j.get() for j in parse_jobs]\n",
    "\n",
    "    print(\"\\nAnalysing...\")\n",
    "    seen.update(unseen)\n",
    "    unseen.clear()\n",
    "\n",
    "    for title,page_urls,url in results:\n",
    "        print(count,title,url)\n",
    "        count +=1\n",
    "        unseen.update(page_urls-seen)\n",
    "pool.close()\n",
    "pool.join()\n",
    "print(\"Total Time: %.1f s\"%(time.time()-t1))"
   ]
  }
 ],
 "metadata": {
  "kernelspec": {
   "display_name": "Python 3",
   "language": "python",
   "name": "python3"
  },
  "language_info": {
   "codemirror_mode": {
    "name": "ipython",
    "version": 3
   },
   "file_extension": ".py",
   "mimetype": "text/x-python",
   "name": "python",
   "nbconvert_exporter": "python",
   "pygments_lexer": "ipython3",
   "version": "3.7.1"
  },
  "toc": {
   "base_numbering": 1,
   "nav_menu": {},
   "number_sections": true,
   "sideBar": true,
   "skip_h1_title": false,
   "title_cell": "Table of Contents",
   "title_sidebar": "Contents",
   "toc_cell": false,
   "toc_position": {},
   "toc_section_display": true,
   "toc_window_display": false
  }
 },
 "nbformat": 4,
 "nbformat_minor": 2
}
