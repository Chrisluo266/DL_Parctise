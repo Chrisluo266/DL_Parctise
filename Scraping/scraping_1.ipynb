{
 "cells": [
  {
   "cell_type": "code",
   "execution_count": 1,
   "metadata": {},
   "outputs": [
    {
     "name": "stdout",
     "output_type": "stream",
     "text": [
      "<title>哔哩哔哩 (゜-゜)つロ 干杯~-bilibili</title>\n"
     ]
    }
   ],
   "source": [
    "from bs4 import BeautifulSoup\n",
    "from urllib.request import urlopen\n",
    "html = urlopen(\"https://www.bilibili.com/\").read().decode(\"utf-8\")\n",
    "soup = BeautifulSoup(html,features=\"lxml\")\n",
    "print(soup.title)"
   ]
  },
  {
   "cell_type": "code",
   "execution_count": 11,
   "metadata": {},
   "outputs": [
    {
     "name": "stdout",
     "output_type": "stream",
     "text": [
      "['//www.bilibili.com', '//www.bilibili.com/audio/home/?type=10', '//game.bilibili.com', '//live.bilibili.com', '//show.bilibili.com/platform/home.html?msource=pc_web', '//manga.bilibili.com', '//app.bilibili.com', '//member.bilibili.com/v2#/upload/video/frame', '//www.bilibili.com/ranking', '//www.bilibili.com', '', '//www.bilibili.com', '//www.bilibili.com/v/douga/', '//www.bilibili.com/v/douga/mad/', '//www.bilibili.com/v/douga/mmd/', '//www.bilibili.com/v/douga/voice/', '//www.bilibili.com/v/douga/other/', '//www.bilibili.com/anime/', '//www.bilibili.com/v/anime/serial/', '//www.bilibili.com/v/anime/finish/', '//www.bilibili.com/v/anime/information/', '//www.bilibili.com/v/anime/offical/', '//www.bilibili.com/anime/timeline/', '//www.bilibili.com/anime/index/', '//www.bilibili.com/guochuang/', '//www.bilibili.com/v/guochuang/chinese/', '//www.bilibili.com/v/guochuang/original/', '//www.bilibili.com/v/guochuang/puppetry/', '//www.bilibili.com/v/guochuang/motioncomic/', '//www.bilibili.com/v/guochuang/information/', '//www.bilibili.com/guochuang/timeline/', '//www.bilibili.com/guochuang/index/', '//www.bilibili.com/v/music/', '//www.bilibili.com/v/music/original/', '//www.bilibili.com/v/music/cover/', '//www.bilibili.com/v/music/vocaloid/', '//www.bilibili.com/v/music/electronic/', '//www.bilibili.com/v/music/perform/', '//www.bilibili.com/v/music/mv/', '//www.bilibili.com/v/music/live/', '//www.bilibili.com/v/music/other/', '//www.bilibili.com/audio/home?musicType=music', '//www.bilibili.com/v/dance/', '//www.bilibili.com/v/dance/otaku/', '//www.bilibili.com/v/dance/three_d/', '//www.bilibili.com/v/dance/demo/', '//www.bilibili.com/v/game/', '//www.bilibili.com/v/game/stand_alone/', '//www.bilibili.com/v/game/esports/', '//www.bilibili.com/v/game/mobile/', '//www.bilibili.com/v/game/online/', '//www.bilibili.com/v/game/board/', '//www.bilibili.com/v/game/gmv/', '//www.bilibili.com/v/game/music/', '//www.bilibili.com/v/game/mugen/', '//www.bilibili.com/v/game/match/', '//www.bilibili.com/v/technology/', '//www.bilibili.com/v/technology/fun/', '//www.bilibili.com/v/technology/wild/', '//www.bilibili.com/v/technology/speech_course/', '//www.bilibili.com/v/technology/military/', '//www.bilibili.com/v/technology/mechanical/', '//www.bilibili.com/v/technology/automobile/', '//www.bilibili.com/v/digital/', '//www.bilibili.com/v/digital/mobile/', '//www.bilibili.com/v/digital/pc/', '//www.bilibili.com/v/digital/photography/', '//www.bilibili.com/v/digital/intelligence_av/', '//www.bilibili.com/v/life/', '//www.bilibili.com/v/life/funny/', '//www.bilibili.com/v/life/daily/', '//www.bilibili.com/v/life/food/', '//www.bilibili.com/v/life/animal/', '//www.bilibili.com/v/life/handmake/', '//www.bilibili.com/v/life/painting/', '//www.bilibili.com/v/life/sports/', '//www.bilibili.com/v/life/other/', '//www.bilibili.com/v/kichiku/', '//www.bilibili.com/v/kichiku/guide/', '//www.bilibili.com/v/kichiku/mad/', '//www.bilibili.com/v/kichiku/manual_vocaloid/', '//www.bilibili.com/v/kichiku/course/', '//www.bilibili.com/v/fashion/', '//www.bilibili.com/v/fashion/makeup/', '//www.bilibili.com/v/fashion/clothing/', '//www.bilibili.com/v/fashion/aerobics/', '//www.bilibili.com/v/fashion/catwalk/', '//www.bilibili.com/v/fashion/trends/', '//www.bilibili.com/v/ad/ad/', '//www.bilibili.com/v/ent/', '//www.bilibili.com/v/ent/variety/', '//www.bilibili.com/v/ent/star/', '//www.bilibili.com/v/ent/korea/', '//www.bilibili.com/v/cinephile/', '//www.bilibili.com/v/cinephile/cinecism/', '//www.bilibili.com/v/cinephile/montage/', '//www.bilibili.com/v/cinephile/shortfilm/', '//www.bilibili.com/v/cinephile/trailer_info/', '//www.bilibili.com/v/cinephile/tokusatsu/', '//www.bilibili.com/cinema/', '//www.bilibili.com/documentary/', '//www.bilibili.com/movie/', '//www.bilibili.com/tv/', '//www.bilibili.com/read/home', '//www.bilibili.com/blackboard/x/act_list', '//show.bilibili.com/platform/home.html', '//game.bilibili.com', 'http://h.bilibili.com', '//www.bilibili.com/mango', '//live.bilibili.com', '//live.bilibili.com/all?visit_id=5icxsa0kmts0', '//live.bilibili.com/p/eden/area-tags?parentAreaId=2&areaId=0&visit_id=5icxsa0kmts0#/2/0', '//live.bilibili.com/p/eden/area-tags?parentAreaId=3&areaId=0&visit_id=5icxsa0kmts0#/3/0', '//live.bilibili.com/p/eden/area-tags?parentAreaId=1&areaId=0&visit_id=5icxsa0kmts0#/1/0', '//live.bilibili.com/p/eden/area-tags?parentAreaId=5&areaId=0&visit_id=5icxsa0kmts0#/5/0', '//live.bilibili.com/p/eden/area-tags?parentAreaId=4&areaId=0&visit_id=5icxsa0kmts0#/4/0', '//www.bilibili.com/blackroom/', '', 'https://www.bilibili.com/bangumi/play/ep273318', '//www.bilibili.com/blackboard/topic_list.html', 'https://ad-bili-data.biligame.com/api/pc/clickBili?ad_plan_id=21460&mid=__MID__&ip=172.22.54.104&request_id=1559312420294q172a23a49a192q5989&ts=__TS__&ua=__UA__', '//www.bilibili.com/blackboard/topic_list.html', 'https://bw.bilibili.com/', '//www.bilibili.com/blackboard/topic_list.html', 'https://www.bilibili.com/blackboard/shakuhachi-h5.html', '//www.bilibili.com/blackboard/topic_list.html', 'https://www.bilibili.com/read/cv2670357?from=1002', '//www.bilibili.com/blackboard/topic_list.html', 'https://www.bilibili.com/bangumi/play/ep273318', 'https://ad-bili-data.biligame.com/api/pc/clickBili?ad_plan_id=21460&mid=__MID__&ip=172.22.54.104&request_id=1559312420294q172a23a49a192q5989&ts=__TS__&ua=__UA__', 'https://bw.bilibili.com/', 'https://www.bilibili.com/blackboard/shakuhachi-h5.html', 'https://www.bilibili.com/read/cv2670357?from=1002', '/video/av53873388/', '/video/av53920958/', '/video/av54035624/', '/video/av53919751/', '/video/av53944129/', '/video/av54023656/', '/video/av53999272/', '/video/av53931368/', '/video/av53991543/', '/video/av53094589/', '/video/av53445059/', '/video/av54024505/', '/video/av53714931/', '//www.bilibili.com/video/online.html', '//www.bilibili.com/newlist.html', '//www.bilibili.com/list/recommend/1.html', '//www.bilibili.com/v/game/match/schedule', '//www.bilibili.com/v/game/match/library']\n"
     ]
    }
   ],
   "source": [
    "all_a = soup.find_all(\"a\")\n",
    "all_href = []\n",
    "for a in all_a:\n",
    "    if 'href' in a.attrs:\n",
    "        all_href.append(a['href'])\n",
    "print(all_href)"
   ]
  }
 ],
 "metadata": {
  "kernelspec": {
   "display_name": "Python 3",
   "language": "python",
   "name": "python3"
  },
  "language_info": {
   "codemirror_mode": {
    "name": "ipython",
    "version": 3
   },
   "file_extension": ".py",
   "mimetype": "text/x-python",
   "name": "python",
   "nbconvert_exporter": "python",
   "pygments_lexer": "ipython3",
   "version": "3.7.1"
  },
  "toc": {
   "base_numbering": 1,
   "nav_menu": {},
   "number_sections": true,
   "sideBar": true,
   "skip_h1_title": false,
   "title_cell": "Table of Contents",
   "title_sidebar": "Contents",
   "toc_cell": false,
   "toc_position": {},
   "toc_section_display": true,
   "toc_window_display": false
  }
 },
 "nbformat": 4,
 "nbformat_minor": 2
}
