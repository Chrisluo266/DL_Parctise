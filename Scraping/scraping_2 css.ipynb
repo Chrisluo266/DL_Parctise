{
 "cells": [
  {
   "cell_type": "code",
   "execution_count": 2,
   "metadata": {},
   "outputs": [],
   "source": [
    "from bs4 import BeautifulSoup\n",
    "from urllib.request import urlopen\n",
    "html = urlopen(\"https://morvanzhou.github.io/static/scraping/list.html\").read().decode(\"utf-8\")\n",
    "soup = BeautifulSoup(html,features=\"lxml\")"
   ]
  },
  {
   "cell_type": "code",
   "execution_count": 4,
   "metadata": {},
   "outputs": [
    {
     "name": "stdout",
     "output_type": "stream",
     "text": [
      "[<li class=\"month\">一月</li>, <li>一月一号</li>, <li>一月二号</li>, <li>一月三号</li>, <li class=\"feb month\">二月</li>, <li class=\"month\">三月</li>, <li class=\"month\">四月</li>, <li class=\"month\">五月</li>]\n",
      "['一月', '二月', '三月', '四月', '五月']\n",
      "<ul class=\"jan\">\n",
      "<li>一月一号</li>\n",
      "<li>一月二号</li>\n",
      "<li>一月三号</li>\n",
      "</ul>\n",
      "[<li>一月一号</li>, <li>一月二号</li>, <li>一月三号</li>]\n"
     ]
    }
   ],
   "source": [
    "all_li = soup.find_all(\"li\")\n",
    "print(all_li)\n",
    "all_month_li = soup.find_all(\"li\",{'class':'month'})\n",
    "print([label.getText() for label in all_month_li])\n",
    "all_jan_li = soup.find(\"ul\",{'class':'jan'})\n",
    "print(all_jan_li)\n",
    "all_jan = all_jan_li.find_all(\"li\")\n",
    "print(all_jan)"
   ]
  }
 ],
 "metadata": {
  "kernelspec": {
   "display_name": "Python 3",
   "language": "python",
   "name": "python3"
  },
  "language_info": {
   "codemirror_mode": {
    "name": "ipython",
    "version": 3
   },
   "file_extension": ".py",
   "mimetype": "text/x-python",
   "name": "python",
   "nbconvert_exporter": "python",
   "pygments_lexer": "ipython3",
   "version": "3.7.1"
  },
  "toc": {
   "base_numbering": 1,
   "nav_menu": {},
   "number_sections": true,
   "sideBar": true,
   "skip_h1_title": false,
   "title_cell": "Table of Contents",
   "title_sidebar": "Contents",
   "toc_cell": false,
   "toc_position": {},
   "toc_section_display": true,
   "toc_window_display": false
  }
 },
 "nbformat": 4,
 "nbformat_minor": 2
}
