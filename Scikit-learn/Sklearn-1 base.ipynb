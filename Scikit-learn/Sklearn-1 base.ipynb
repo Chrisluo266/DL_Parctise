{
 "cells": [
  {
   "cell_type": "code",
   "execution_count": 1,
   "metadata": {},
   "outputs": [],
   "source": [
    "import sklearn.datasets as datasets\n",
    "from sklearn.model_selection import train_test_split\n",
    "from sklearn.neighbors import KNeighborsClassifier\n",
    "import numpy"
   ]
  },
  {
   "cell_type": "markdown",
   "metadata": {},
   "source": [
    "### 读取数据集"
   ]
  },
  {
   "cell_type": "code",
   "execution_count": 2,
   "metadata": {},
   "outputs": [],
   "source": [
    "iris_dataset = datasets.load_iris()"
   ]
  },
  {
   "cell_type": "markdown",
   "metadata": {},
   "source": [
    "### 分割并打乱数据集(训练集：测试集=7:3)"
   ]
  },
  {
   "cell_type": "code",
   "execution_count": 3,
   "metadata": {},
   "outputs": [
    {
     "name": "stdout",
     "output_type": "stream",
     "text": [
      "初始labels =  [0 0 0 0 0 0 0 0 0 0 0 0 0 0 0 0 0 0 0 0 0 0 0 0 0 0 0 0 0 0 0 0 0 0 0 0 0\n",
      " 0 0 0 0 0 0 0 0 0 0 0 0 0 1 1 1 1 1 1 1 1 1 1 1 1 1 1 1 1 1 1 1 1 1 1 1 1\n",
      " 1 1 1 1 1 1 1 1 1 1 1 1 1 1 1 1 1 1 1 1 1 1 1 1 1 1 2 2 2 2 2 2 2 2 2 2 2\n",
      " 2 2 2 2 2 2 2 2 2 2 2 2 2 2 2 2 2 2 2 2 2 2 2 2 2 2 2 2 2 2 2 2 2 2 2 2 2\n",
      " 2 2]\n",
      "训练集labels =  [1 2 0 1 0 2 2 0 2 2 2 1 0 0 2 0 2 0 2 1 1 2 0 0 0 0 0 1 1 2 0 1 0 0 2 1 0\n",
      " 0 0 0 2 2 2 1 1 1 2 2 1 2 0 1 0 0 2 0 0 0 0 1 2 2 0 2 0 0 0 0 2 1 2 1 2 0\n",
      " 0 1 2 0 1 0 1 1 1 2 2 0 1 0 1 0 1 2 2 2 0 1 1 1 1 2 2 0 2 0 1]\n",
      "测试集labels =  [0 1 2 0 0 1 1 0 2 2 2 1 1 2 1 1 1 2 1 1 1 2 1 1 2 1 2 2 2 1 1 0 1 0 1 2 0\n",
      " 0 2 1 1 0 2 2 2]\n"
     ]
    }
   ],
   "source": [
    "train_x, test_x, train_y, test_y = train_test_split(iris_dataset.data,iris_dataset.target,test_size=0.3)\n",
    "print(\"初始labels = \",iris_dataset.target)\n",
    "print(\"训练集labels = \",train_y)\n",
    "print(\"测试集labels = \",test_y)"
   ]
  },
  {
   "cell_type": "markdown",
   "metadata": {},
   "source": [
    "### 定义使用的分类器"
   ]
  },
  {
   "cell_type": "code",
   "execution_count": 4,
   "metadata": {},
   "outputs": [],
   "source": [
    "knn = KNeighborsClassifier()"
   ]
  },
  {
   "cell_type": "markdown",
   "metadata": {},
   "source": [
    "### 训练"
   ]
  },
  {
   "cell_type": "code",
   "execution_count": 5,
   "metadata": {},
   "outputs": [
    {
     "data": {
      "text/plain": [
       "KNeighborsClassifier(algorithm='auto', leaf_size=30, metric='minkowski',\n",
       "           metric_params=None, n_jobs=None, n_neighbors=5, p=2,\n",
       "           weights='uniform')"
      ]
     },
     "execution_count": 5,
     "metadata": {},
     "output_type": "execute_result"
    }
   ],
   "source": [
    "knn.fit(train_x,train_y)"
   ]
  },
  {
   "cell_type": "markdown",
   "metadata": {},
   "source": [
    "### 预测Test集结果"
   ]
  },
  {
   "cell_type": "code",
   "execution_count": 9,
   "metadata": {
    "scrolled": true
   },
   "outputs": [
    {
     "name": "stdout",
     "output_type": "stream",
     "text": [
      "(45, 4)\n",
      "Predict = [0 1 1 0 0 1 1 0 1 2 2 1 1 2 1 1 2 2 1 1 1 2 1 1 2 1 2 2 2 1 1 0 1 0 1 2 0\n",
      " 0 2 1 1 0 2 2 2]\n",
      "Real    = [0 1 2 0 0 1 1 0 2 2 2 1 1 2 1 1 1 2 1 1 1 2 1 1 2 1 2 2 2 1 1 0 1 0 1 2 0\n",
      " 0 2 1 1 0 2 2 2]\n",
      "Accuracy = 93.333%    Count_Errors = 3 / 45\n"
     ]
    }
   ],
   "source": [
    "import math\n",
    "predict = knn.predict(test_x)\n",
    "print(test_x.shape)\n",
    "print(\"Predict =\",predict)\n",
    "print(\"Real    =\",test_y)\n",
    "total_count = len(test_y)\n",
    "bools_result = predict == test_y\n",
    "error_count = len(bools_result[bools_result==False])\n",
    "acc = 1-error_count/total_count   #numpy.mean((bools_result).astype(numpy.float32))\n",
    "print(\"Accuracy = {:.3%}    Count_Errors = {} / {}\".format(acc,error_count,total_count))"
   ]
  }
 ],
 "metadata": {
  "kernelspec": {
   "display_name": "Python 3",
   "language": "python",
   "name": "python3"
  },
  "language_info": {
   "codemirror_mode": {
    "name": "ipython",
    "version": 3
   },
   "file_extension": ".py",
   "mimetype": "text/x-python",
   "name": "python",
   "nbconvert_exporter": "python",
   "pygments_lexer": "ipython3",
   "version": "3.7.1"
  },
  "toc": {
   "base_numbering": 1,
   "nav_menu": {},
   "number_sections": true,
   "sideBar": true,
   "skip_h1_title": false,
   "title_cell": "Table of Contents",
   "title_sidebar": "Contents",
   "toc_cell": false,
   "toc_position": {},
   "toc_section_display": true,
   "toc_window_display": false
  }
 },
 "nbformat": 4,
 "nbformat_minor": 2
}
