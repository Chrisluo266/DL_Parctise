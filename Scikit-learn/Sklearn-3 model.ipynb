{
 "cells": [
  {
   "cell_type": "code",
   "execution_count": 21,
   "metadata": {},
   "outputs": [],
   "source": [
    "from sklearn import datasets\n",
    "import numpy as np\n",
    "from sklearn.linear_model import LinearRegression\n",
    "from sklearn.model_selection import train_test_split"
   ]
  },
  {
   "cell_type": "code",
   "execution_count": 22,
   "metadata": {},
   "outputs": [],
   "source": [
    "loaded_data = datasets.load_boston()\n",
    "data_x = loaded_data.data\n",
    "data_y = loaded_data.target"
   ]
  },
  {
   "cell_type": "code",
   "execution_count": 23,
   "metadata": {},
   "outputs": [
    {
     "data": {
      "text/plain": [
       "LinearRegression(copy_X=True, fit_intercept=True, n_jobs=None,\n",
       "         normalize=False)"
      ]
     },
     "execution_count": 23,
     "metadata": {},
     "output_type": "execute_result"
    }
   ],
   "source": [
    "model_normalize = LinearRegression(True,True)\n",
    "model_non_normalize = LinearRegression(True,False)\n",
    "train_x,test_x,train_y,test_y = train_test_split(data_x,data_y,test_size=0.1)\n",
    "model_normalize.fit(train_x,train_y)\n",
    "model_non_normalize.fit(train_x,train_y)"
   ]
  },
  {
   "cell_type": "markdown",
   "metadata": {},
   "source": [
    "### 斜率(weights)与截距(bias)"
   ]
  },
  {
   "cell_type": "code",
   "execution_count": 24,
   "metadata": {},
   "outputs": [
    {
     "name": "stdout",
     "output_type": "stream",
     "text": [
      "k =  [-9.39985682e-02  4.50360026e-02  4.20346938e-02  1.98221760e+00\n",
      " -1.98499613e+01  4.18227344e+00 -4.94977326e-03 -1.57075316e+00\n",
      "  3.05451621e-01 -1.36120465e-02 -1.00752986e+00  9.81149010e-03\n",
      " -4.60589258e-01]\n",
      "b =  36.26316753451673\n",
      "k =  [-9.39985682e-02  4.50360026e-02  4.20346938e-02  1.98221760e+00\n",
      " -1.98499613e+01  4.18227344e+00 -4.94977326e-03 -1.57075316e+00\n",
      "  3.05451621e-01 -1.36120465e-02 -1.00752986e+00  9.81149010e-03\n",
      " -4.60589258e-01]\n",
      "b =  36.26316753451667\n"
     ]
    }
   ],
   "source": [
    "print(\"k = \",model_normalize.coef_)\n",
    "print(\"b = \",model_normalize.intercept_)\n",
    "print(\"k = \",model_non_normalize.coef_)\n",
    "print(\"b = \",model_non_normalize.intercept_)"
   ]
  },
  {
   "cell_type": "markdown",
   "metadata": {},
   "source": [
    "### 模型参数"
   ]
  },
  {
   "cell_type": "code",
   "execution_count": 25,
   "metadata": {},
   "outputs": [
    {
     "name": "stdout",
     "output_type": "stream",
     "text": [
      "{'copy_X': True, 'fit_intercept': True, 'n_jobs': None, 'normalize': True}\n",
      "{'copy_X': True, 'fit_intercept': True, 'n_jobs': None, 'normalize': False}\n"
     ]
    }
   ],
   "source": [
    "print(model_normalize.get_params())\n",
    "print(model_non_normalize.get_params())"
   ]
  },
  {
   "cell_type": "markdown",
   "metadata": {},
   "source": [
    "### 模型打分score"
   ]
  },
  {
   "cell_type": "code",
   "execution_count": 26,
   "metadata": {},
   "outputs": [
    {
     "name": "stdout",
     "output_type": "stream",
     "text": [
      "normalize使用训练集打分：  0.7580270157344448\n",
      "normalize使用测试集打分：  0.5789545040407003\n",
      "non-normalize使用训练集打分：  0.7580270157344448\n",
      "non-normalize使用测试集打分：  0.5789545040406983\n"
     ]
    }
   ],
   "source": [
    "print(\"normalize使用训练集打分： \",model_normalize.score(train_x,train_y))\n",
    "print(\"normalize使用测试集打分： \",model_normalize.score(test_x,test_y))\n",
    "print(\"non-normalize使用训练集打分： \",model_non_normalize.score(train_x,train_y))\n",
    "print(\"non-normalize使用测试集打分： \",model_non_normalize.score(test_x,test_y))"
   ]
  }
 ],
 "metadata": {
  "kernelspec": {
   "display_name": "Python 3",
   "language": "python",
   "name": "python3"
  },
  "language_info": {
   "codemirror_mode": {
    "name": "ipython",
    "version": 3
   },
   "file_extension": ".py",
   "mimetype": "text/x-python",
   "name": "python",
   "nbconvert_exporter": "python",
   "pygments_lexer": "ipython3",
   "version": "3.7.1"
  },
  "toc": {
   "base_numbering": 1,
   "nav_menu": {},
   "number_sections": true,
   "sideBar": true,
   "skip_h1_title": false,
   "title_cell": "Table of Contents",
   "title_sidebar": "Contents",
   "toc_cell": false,
   "toc_position": {},
   "toc_section_display": true,
   "toc_window_display": false
  }
 },
 "nbformat": 4,
 "nbformat_minor": 2
}
