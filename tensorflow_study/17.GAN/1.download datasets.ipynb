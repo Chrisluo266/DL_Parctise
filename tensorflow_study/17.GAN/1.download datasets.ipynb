{
 "cells": [
  {
   "cell_type": "code",
   "execution_count": 1,
   "metadata": {},
   "outputs": [],
   "source": [
    "import os\n",
    "import sys\n",
    "import zipfile\n",
    "from urllib.request import urlretrieve\n",
    "import requests\n",
    "from tqdm import tqdm"
   ]
  },
  {
   "cell_type": "code",
   "execution_count": 4,
   "metadata": {},
   "outputs": [],
   "source": [
    "def save_response_content(response, destination, chunk_size=32*1024):\n",
    "    total_size = int(response.headers.get('content-length', 0))\n",
    "    with open(destination, \"wb\") as f:\n",
    "        for chunk in tqdm(response.iter_content(chunk_size), total=total_size,\n",
    "                          unit='B', unit_scale=False, desc=destination):\n",
    "            if chunk:\n",
    "                f.write(chunk)\n",
    "\n",
    "\n",
    "def get_confirm_token(response):\n",
    "    for key, value in response.cookies.items():\n",
    "        if key.startswith('download_warning'):\n",
    "            return value\n",
    "    return None\n",
    "\n",
    "\n",
    "def download_file_from_google_drive(id, destination):\n",
    "    URL = \"https://docs.google.com/uc?export=download\"\n",
    "    session = requests.Session()\n",
    "\n",
    "    response = session.get(URL, params={'id': id}, stream=True)\n",
    "    token = get_confirm_token(response)\n",
    "\n",
    "    if token:\n",
    "        params = {'id': id, 'confirm': token}\n",
    "        response = session.get(URL, params=params, stream=True)\n",
    "\n",
    "    save_response_content(response, destination)\n",
    "\n",
    "\n",
    "def download_celeb_a(dirpath):\n",
    "    data_dir = 'celebA'\n",
    "    if os.path.exists(os.path.join(dirpath, data_dir)):\n",
    "        print('Found Celeb-A - skip')\n",
    "        return\n",
    "\n",
    "    filename, drive_id = \"img_align_celeba.zip\", \"0B7EVK8r0v71pZjFTYXZWM3FlRnM\"\n",
    "    save_path = os.path.join(dirpath, filename)\n",
    "\n",
    "    if os.path.exists(save_path):\n",
    "        print('[*] {} already exists'.format(save_path))\n",
    "    else:\n",
    "        download_file_from_google_drive(drive_id, save_path)\n",
    "\n",
    "    zip_dir = ''\n",
    "    with zipfile.ZipFile(save_path) as zf:\n",
    "        zip_dir = zf.namelist()[0]\n",
    "        zf.extractall(dirpath)\n",
    "    os.remove(save_path)\n",
    "    os.rename(os.path.join(dirpath, zip_dir), os.path.join(dirpath, data_dir))"
   ]
  },
  {
   "cell_type": "code",
   "execution_count": 5,
   "metadata": {},
   "outputs": [
    {
     "name": "stderr",
     "output_type": "stream",
     "text": [
      "./datasets/img_align_celeba.zip: 44055B [03:28, 211.46B/s]\n"
     ]
    }
   ],
   "source": [
    "data_dir=\"./datasets/\"\n",
    "\n",
    "os.makedirs(data_dir,exist_ok=True)\n",
    "download_celeb_a(data_dir)"
   ]
  }
 ],
 "metadata": {
  "kernelspec": {
   "display_name": "Python 3",
   "language": "python",
   "name": "python3"
  },
  "language_info": {
   "codemirror_mode": {
    "name": "ipython",
    "version": 3
   },
   "file_extension": ".py",
   "mimetype": "text/x-python",
   "name": "python",
   "nbconvert_exporter": "python",
   "pygments_lexer": "ipython3",
   "version": "3.7.1"
  },
  "toc": {
   "base_numbering": 1,
   "nav_menu": {},
   "number_sections": true,
   "sideBar": true,
   "skip_h1_title": false,
   "title_cell": "Table of Contents",
   "title_sidebar": "Contents",
   "toc_cell": false,
   "toc_position": {},
   "toc_section_display": true,
   "toc_window_display": false
  }
 },
 "nbformat": 4,
 "nbformat_minor": 2
}
