{
 "cells": [
  {
   "cell_type": "code",
   "execution_count": 1,
   "metadata": {},
   "outputs": [],
   "source": [
    "from captcha.image import ImageCaptcha\n",
    "import numpy as np\n",
    "from PIL import Image\n",
    "import random\n",
    "import sys\n",
    "import os\n",
    "import tensorflow as tf"
   ]
  },
  {
   "cell_type": "code",
   "execution_count": 9,
   "metadata": {},
   "outputs": [
    {
     "name": "stdout",
     "output_type": "stream",
     "text": [
      "['0', '1', '2', '3', '4', '5', '6', '7', '8', '9', 'A', 'B', 'C', 'D', 'E']\n",
      "{'0': 0, '1': 1, '2': 2, '3': 3, '4': 4, '5': 5, '6': 6, '7': 7, '8': 8, '9': 9, 'A': 10, 'B': 11, 'C': 12, 'D': 13, 'E': 14}\n"
     ]
    }
   ],
   "source": [
    "number = ['0','1','2','3','4','5','6','7','8','9']\n",
    "ALPHABET = ['A','B','C','D','E']\n",
    "IMAGE_GEN_PATH = \"./captcha/images/\"\n",
    "\n",
    "CHAR_SET=number + ALPHABET\n",
    "print(CHAR_SET)\n",
    "\n",
    "CHAR_MAP = {}\n",
    "for index,value in enumerate(CHAR_SET):\n",
    "    CHAR_MAP[value]=index\n",
    "print(CHAR_MAP)"
   ]
  },
  {
   "cell_type": "code",
   "execution_count": 7,
   "metadata": {},
   "outputs": [],
   "source": [
    "def random_captcha_text(char_set,captcha_size=4):\n",
    "    captcha_text = \"\"\n",
    "    for i in range(captcha_size):\n",
    "        c = random.choice(char_set)\n",
    "        captcha_text += c\n",
    "    return captcha_text\n",
    "pass\n",
    "def gen_captcha_text_and_image(char_set,captcha_size=4):\n",
    "    try:\n",
    "        image = ImageCaptcha()\n",
    "        captcha_text = random_captcha_text(char_set,captcha_size)\n",
    "        image.write(captcha_text,IMAGE_GEN_PATH+captcha_text+'.jpg')\n",
    "    except FileNotFoundError:\n",
    "        print(\"File not found error:  captcha_text = \",captcha_text)"
   ]
  },
  {
   "cell_type": "code",
   "execution_count": 8,
   "metadata": {},
   "outputs": [
    {
     "name": "stdout",
     "output_type": "stream",
     "text": [
      ">> Creating image 60000/60000\n"
     ]
    }
   ],
   "source": [
    "num = 60000\n",
    "if not os.path.exists(IMAGE_GEN_PATH):\n",
    "    os.makedirs(IMAGE_GEN_PATH)\n",
    "for i in range(num):\n",
    "    gen_captcha_text_and_image(CHAR_SET,4)\n",
    "    sys.stdout.write(\"\\r>> Creating image %d/%d\"%(i+1,num))\n",
    "    sys.stdout.flush()\n",
    "sys.stdout.write(\"\\n\")\n",
    "sys.stdout.flush()"
   ]
  }
 ],
 "metadata": {
  "kernelspec": {
   "display_name": "Python 3",
   "language": "python",
   "name": "python3"
  },
  "language_info": {
   "codemirror_mode": {
    "name": "ipython",
    "version": 3
   },
   "file_extension": ".py",
   "mimetype": "text/x-python",
   "name": "python",
   "nbconvert_exporter": "python",
   "pygments_lexer": "ipython3",
   "version": "3.7.1"
  },
  "toc": {
   "base_numbering": 1,
   "nav_menu": {},
   "number_sections": true,
   "sideBar": true,
   "skip_h1_title": false,
   "title_cell": "Table of Contents",
   "title_sidebar": "Contents",
   "toc_cell": false,
   "toc_position": {},
   "toc_section_display": true,
   "toc_window_display": false
  }
 },
 "nbformat": 4,
 "nbformat_minor": 2
}
