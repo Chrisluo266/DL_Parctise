{
 "cells": [
  {
   "cell_type": "code",
   "execution_count": 1,
   "metadata": {},
   "outputs": [],
   "source": [
    "import tensorflow as tf\n",
    "import os\n",
    "import random\n",
    "import sys\n",
    "from PIL import Image\n",
    "import numpy as np"
   ]
  },
  {
   "cell_type": "code",
   "execution_count": 2,
   "metadata": {},
   "outputs": [
    {
     "name": "stdout",
     "output_type": "stream",
     "text": [
      "['0', '1', '2', '3', '4', '5', '6', '7', '8', '9', 'A', 'B', 'C', 'D', 'E']\n",
      "{'0': 0, '1': 1, '2': 2, '3': 3, '4': 4, '5': 5, '6': 6, '7': 7, '8': 8, '9': 9, 'A': 10, 'B': 11, 'C': 12, 'D': 13, 'E': 14}\n"
     ]
    }
   ],
   "source": [
    "number = ['0','1','2','3','4','5','6','7','8','9']\n",
    "ALPHABET = ['A','B','C','D','E']\n",
    "IMAGE_GEN_PATH = \"./captcha/images/\"\n",
    "\n",
    "CHAR_SET=number + ALPHABET\n",
    "print(CHAR_SET)\n",
    "\n",
    "CHAR_MAP = {}\n",
    "for index,value in enumerate(CHAR_SET):\n",
    "    CHAR_MAP[value]=index\n",
    "print(CHAR_MAP)"
   ]
  },
  {
   "cell_type": "code",
   "execution_count": 3,
   "metadata": {},
   "outputs": [],
   "source": [
    "tf.reset_default_graph()\n",
    "#获取所有文件以及分类\n",
    "def _get_filenames(dataset_dir):\n",
    "    #数据目录\n",
    "    photo_filenames = []\n",
    "    #循环每个分类的文件夹\n",
    "    for filename in os.listdir(dataset_dir):\n",
    "        path = os.path.join(dataset_dir, filename)\n",
    "        #把图片加入图片列表\n",
    "        photo_filenames.append(path)\n",
    " \n",
    "    return photo_filenames\n",
    "\n",
    "def int64_feature(values):\n",
    "    if not isinstance(values, (tuple, list)):\n",
    "        values = [values]\n",
    "    return tf.train.Feature(int64_list=tf.train.Int64List(value=values))\n",
    " \n",
    "def bytes_feature(values):\n",
    "    return tf.train.Feature(bytes_list=tf.train.BytesList(value=[values]))\n",
    " \n",
    "def image_to_tfexample(image_data, image_format, labels):\n",
    "    #Abstract base class for protocol messages.\n",
    "    feature = {\n",
    "        'image/encoded': bytes_feature(image_data),\n",
    "        'image/format': bytes_feature(image_format),\n",
    "    }\n",
    "    for index,value in enumerate(labels):\n",
    "        feature[\"image/label\"+str(index)] = int64_feature(value),\n",
    "    return tf.train.Example(features=tf.train.Features(feature=feature))\n",
    "\n",
    "#把数据转为TFRecord格式\n",
    "def _convert_dataset(split_name, filenames, dataset_dir):\n",
    "    output_filename = _gettfrecord_filepath(dataset_dir,split_name)\n",
    "    labels = [1,1,1,1]\n",
    "    with tf.Session() as sess:\n",
    "        with tf.python_io.TFRecordWriter(output_filename) as tfrecord_writer:\n",
    "            for i,filename in enumerate(filenames):\n",
    "                try:\n",
    "                    sys.stdout.write('\\r>> Converting image %d/%d' % (i+1, len(filenames)))\n",
    "                    sys.stdout.flush()\n",
    "                    #读取图片\n",
    "                    image_data = Image.open(filename)\n",
    "                    image_data = image_data.resize((224,224))\n",
    "                    image_data = np.array(image_data.convert(\"L\"))\n",
    "                    image_data = image_data.tobytes()\n",
    "                    labelstr = os.path.basename(filename)\n",
    "                    labelstr = os.path.splitext(labelstr)[0]\n",
    "                    for index,value in enumerate(labelstr):\n",
    "                        labels[index] = CHAR_MAP[value]\n",
    "                    #生成tfrecord文件\n",
    "                    example = image_to_tfexample(image_data, b'jpg', labels)\n",
    "                    tfrecord_writer.write(example.SerializeToString())\n",
    "                except IOError as e:\n",
    "                    print(\"Could not read:\",filenames[i])\n",
    "                    print(\"Error:\",e)\n",
    "                    print(\"Skip it\\n\")    \n",
    "    sys.stdout.write('\\n')\n",
    "    sys.stdout.flush()\n",
    "    \n",
    "def _gettfrecord_filepath(dataset_dir,split_name):\n",
    "    output_filename = os.path.join(dataset_dir,split_name+\".tfrecord\")\n",
    "    return output_filename   "
   ]
  },
  {
   "cell_type": "code",
   "execution_count": 4,
   "metadata": {},
   "outputs": [
    {
     "name": "stdout",
     "output_type": "stream",
     "text": [
      ">> Converting image 44892/44892\n",
      ">> Converting image 1000/1000\n",
      "tfrecord 生成完毕。\n"
     ]
    }
   ],
   "source": [
    "#生成tfrecord\n",
    "TFRECORD_DIR = \"./captcha/tfrecords\"\n",
    "_RANDOM_SEED = 0\n",
    "_NUM_TEST = 1000\n",
    "\n",
    "photo_filenames = _get_filenames(IMAGE_GEN_PATH)\n",
    "random.seed(_RANDOM_SEED)\n",
    "random.shuffle(photo_filenames)\n",
    "training_filenames = photo_filenames[_NUM_TEST:]\n",
    "testing_filenames = photo_filenames[:_NUM_TEST]\n",
    "\n",
    "#数据转换\n",
    "os.makedirs(TFRECORD_DIR,exist_ok=True)\n",
    "_convert_dataset('train', training_filenames, TFRECORD_DIR)\n",
    "_convert_dataset('test', testing_filenames, TFRECORD_DIR)\n",
    "print(\"tfrecord 生成完毕。\")"
   ]
  }
 ],
 "metadata": {
  "kernelspec": {
   "display_name": "Python 3",
   "language": "python",
   "name": "python3"
  },
  "language_info": {
   "codemirror_mode": {
    "name": "ipython",
    "version": 3
   },
   "file_extension": ".py",
   "mimetype": "text/x-python",
   "name": "python",
   "nbconvert_exporter": "python",
   "pygments_lexer": "ipython3",
   "version": "3.7.1"
  },
  "toc": {
   "base_numbering": 1,
   "nav_menu": {},
   "number_sections": true,
   "sideBar": true,
   "skip_h1_title": false,
   "title_cell": "Table of Contents",
   "title_sidebar": "Contents",
   "toc_cell": false,
   "toc_position": {},
   "toc_section_display": true,
   "toc_window_display": false
  }
 },
 "nbformat": 4,
 "nbformat_minor": 2
}
