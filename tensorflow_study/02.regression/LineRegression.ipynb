{
 "cells": [
  {
   "cell_type": "code",
   "execution_count": 2,
   "metadata": {},
   "outputs": [],
   "source": [
    "import tensorflow as tf\n",
    "import numpy as np"
   ]
  },
  {
   "cell_type": "code",
   "execution_count": 3,
   "metadata": {},
   "outputs": [],
   "source": [
    "#使用numpy生成100个随机点,在直线y=0.1x+0.2上\n",
    "x_data = np.random.rand(100)\n",
    "y_data = x_data*0.1+0.2"
   ]
  },
  {
   "cell_type": "code",
   "execution_count": 7,
   "metadata": {},
   "outputs": [
    {
     "name": "stdout",
     "output_type": "stream",
     "text": [
      "0 [0.004986143, 0.0026199063]\n",
      "20 [0.08211018, 0.04311447]\n",
      "40 [0.12842712, 0.0673828]\n",
      "60 [0.15625063, 0.08191187]\n",
      "80 [0.1729724, 0.0905956]\n",
      "100 [0.18302953, 0.09577148]\n",
      "120 [0.1890855, 0.09884259]\n",
      "140 [0.19273917, 0.10065117]\n",
      "160 [0.19495036, 0.10170276]\n",
      "180 [0.19629517, 0.10230079]\n",
      "200 [0.19711947, 0.102627434]\n"
     ]
    }
   ],
   "source": [
    "#构造一个线性模型\n",
    "theta0 = tf.Variable(0.0)\n",
    "theta1 = tf.Variable(0.0)\n",
    "y = theta1* x_data + theta0\n",
    "\n",
    "#二次代价函数\n",
    "loss = tf.reduce_mean(tf.square(y_data-y)) \n",
    "#定义一个梯度下降来进行训练的优化器\n",
    "optimizer = tf.train.GradientDescentOptimizer(0.01)\n",
    "#最小化代价函数\n",
    "train_op = optimizer.minimize(loss)\n",
    "#初始化变量操作\n",
    "initVar = tf.global_variables_initializer()\n",
    "\n",
    "#在session中执行训练，并获取参数theta0和theta1\n",
    "with tf.Session() as sess:\n",
    "    sess.run(initVar)\n",
    "    for step in range(201):\n",
    "        sess.run(train_op)\n",
    "        if step % 20 == 0:\n",
    "            print(step,sess.run([theta0,theta1]))"
   ]
  }
 ],
 "metadata": {
  "kernelspec": {
   "display_name": "Python 3",
   "language": "python",
   "name": "python3"
  },
  "language_info": {
   "codemirror_mode": {
    "name": "ipython",
    "version": 3
   },
   "file_extension": ".py",
   "mimetype": "text/x-python",
   "name": "python",
   "nbconvert_exporter": "python",
   "pygments_lexer": "ipython3",
   "version": "3.7.1"
  },
  "toc": {
   "base_numbering": 1,
   "nav_menu": {},
   "number_sections": true,
   "sideBar": true,
   "skip_h1_title": false,
   "title_cell": "Table of Contents",
   "title_sidebar": "Contents",
   "toc_cell": false,
   "toc_position": {},
   "toc_section_display": true,
   "toc_window_display": false
  }
 },
 "nbformat": 4,
 "nbformat_minor": 2
}
