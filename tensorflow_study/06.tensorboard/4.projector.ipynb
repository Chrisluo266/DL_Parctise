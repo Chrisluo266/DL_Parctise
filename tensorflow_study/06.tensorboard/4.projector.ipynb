{
 "cells": [
  {
   "cell_type": "code",
   "execution_count": 1,
   "metadata": {},
   "outputs": [],
   "source": [
    "import tensorflow as tf\n",
    "from tensorflow.examples.tutorials.mnist import input_data\n",
    "from tensorflow.contrib.tensorboard.plugins import projector\n",
    "import os\n",
    "import numpy as np"
   ]
  },
  {
   "cell_type": "code",
   "execution_count": 2,
   "metadata": {},
   "outputs": [
    {
     "name": "stdout",
     "output_type": "stream",
     "text": [
      "WARNING:tensorflow:From <ipython-input-2-30e405a8ee97>:2: read_data_sets (from tensorflow.contrib.learn.python.learn.datasets.mnist) is deprecated and will be removed in a future version.\n",
      "Instructions for updating:\n",
      "Please use alternatives such as official/mnist/dataset.py from tensorflow/models.\n",
      "WARNING:tensorflow:From F:\\Anaconda\\lib\\site-packages\\tensorflow\\contrib\\learn\\python\\learn\\datasets\\mnist.py:260: maybe_download (from tensorflow.contrib.learn.python.learn.datasets.base) is deprecated and will be removed in a future version.\n",
      "Instructions for updating:\n",
      "Please write your own downloading logic.\n",
      "WARNING:tensorflow:From F:\\Anaconda\\lib\\site-packages\\tensorflow\\contrib\\learn\\python\\learn\\datasets\\mnist.py:262: extract_images (from tensorflow.contrib.learn.python.learn.datasets.mnist) is deprecated and will be removed in a future version.\n",
      "Instructions for updating:\n",
      "Please use tf.data to implement this functionality.\n",
      "Extracting MNIST_data\\train-images-idx3-ubyte.gz\n",
      "WARNING:tensorflow:From F:\\Anaconda\\lib\\site-packages\\tensorflow\\contrib\\learn\\python\\learn\\datasets\\mnist.py:267: extract_labels (from tensorflow.contrib.learn.python.learn.datasets.mnist) is deprecated and will be removed in a future version.\n",
      "Instructions for updating:\n",
      "Please use tf.data to implement this functionality.\n",
      "Extracting MNIST_data\\train-labels-idx1-ubyte.gz\n",
      "WARNING:tensorflow:From F:\\Anaconda\\lib\\site-packages\\tensorflow\\contrib\\learn\\python\\learn\\datasets\\mnist.py:110: dense_to_one_hot (from tensorflow.contrib.learn.python.learn.datasets.mnist) is deprecated and will be removed in a future version.\n",
      "Instructions for updating:\n",
      "Please use tf.one_hot on tensors.\n",
      "Extracting MNIST_data\\t10k-images-idx3-ubyte.gz\n",
      "Extracting MNIST_data\\t10k-labels-idx1-ubyte.gz\n",
      "WARNING:tensorflow:From F:\\Anaconda\\lib\\site-packages\\tensorflow\\contrib\\learn\\python\\learn\\datasets\\mnist.py:290: DataSet.__init__ (from tensorflow.contrib.learn.python.learn.datasets.mnist) is deprecated and will be removed in a future version.\n",
      "Instructions for updating:\n",
      "Please use alternatives such as official/mnist/dataset.py from tensorflow/models.\n"
     ]
    }
   ],
   "source": [
    "# 载入数据\n",
    "mnist = input_data.read_data_sets('MNIST_data', one_hot=True)"
   ]
  },
  {
   "cell_type": "code",
   "execution_count": 3,
   "metadata": {},
   "outputs": [
    {
     "name": "stdout",
     "output_type": "stream",
     "text": [
      "WARNING:tensorflow:From F:\\Anaconda\\lib\\site-packages\\tensorflow\\python\\framework\\op_def_library.py:263: colocate_with (from tensorflow.python.framework.ops) is deprecated and will be removed in a future version.\n",
      "Instructions for updating:\n",
      "Colocations handled automatically by placer.\n",
      "WARNING:tensorflow:From <ipython-input-3-70666d8c8365>:25: dense (from tensorflow.python.layers.core) is deprecated and will be removed in a future version.\n",
      "Instructions for updating:\n",
      "Use keras.layers.dense instead.\n",
      "WARNING:tensorflow:From <ipython-input-3-70666d8c8365>:31: softmax_cross_entropy_with_logits (from tensorflow.python.ops.nn_ops) is deprecated and will be removed in a future version.\n",
      "Instructions for updating:\n",
      "\n",
      "Future major versions of TensorFlow will allow gradients to flow\n",
      "into the labels input on backprop by default.\n",
      "\n",
      "See `tf.nn.softmax_cross_entropy_with_logits_v2`.\n",
      "\n"
     ]
    }
   ],
   "source": [
    "tf.reset_default_graph()\n",
    "# 图片数量\n",
    "image_cols = 60\n",
    "image_rows = 60\n",
    "# 定义会话\n",
    "sess = tf.Session()\n",
    "\n",
    "image_num = image_cols * image_rows\n",
    "\n",
    "# 载入图片，把一定数量的测试图片载入内存\n",
    "stack_pre_data = mnist.test.images[:image_num]\n",
    "stack_data = tf.stack(stack_pre_data)\n",
    "\n",
    "embedding = tf.Variable(stack_data, trainable=False, name='embedding')\n",
    "       \n",
    "x = tf.placeholder(tf.float32,[None,784],name='x-input')\n",
    "y = tf.placeholder(tf.float32,[None,10],name='y-input')\n",
    "    \n",
    "# 显示图片\n",
    "with tf.name_scope('input_reshape'):\n",
    "    image_shaped_input = tf.reshape(x,[-1,28,28,1])\n",
    "    tf.summary.image('Input', image_shaped_input,10) # 放进去10张图片\n",
    "    \n",
    "with tf.name_scope('model'):\n",
    "    hidden1 = tf.layers.dense(x, 128, activation=tf.nn.relu, name='hidden-1')\n",
    "    hidden2 = tf.layers.dense(hidden1, 32, activation=tf.nn.relu, name='hidden-2')\n",
    "    logits = tf.layers.dense(hidden2, 10, activation=None, name='logits')\n",
    "    prediction = tf.nn.softmax(logits)        \n",
    "        \n",
    "with tf.name_scope('metries'):\n",
    "    loss = tf.reduce_mean(tf.nn.softmax_cross_entropy_with_logits(labels=y,logits=logits))\n",
    "    tf.summary.scalar('Loss',loss)\n",
    "    train_step = tf.train.GradientDescentOptimizer(0.2).minimize(loss,name=\"train\")\n",
    "    correct_prediction = tf.equal(tf.argmax(y,1),tf.argmax(prediction,1))\n",
    "    accuracy = tf.reduce_mean(tf.cast(correct_prediction,tf.float32))\n",
    "    tf.summary.scalar('Accuracy',accuracy)   \n",
    "\n",
    "    \n",
    "#合并所有summary\n",
    "merged = tf.summary.merge_all()\n",
    "#使用Projector必须要有saver\n",
    "saver = tf.train.Saver()"
   ]
  },
  {
   "cell_type": "code",
   "execution_count": 4,
   "metadata": {},
   "outputs": [],
   "source": [
    "PROJECTOR_DIR = \"./projector/\"\n",
    "PROJECTOR_META_FILENAME = \"metadata.tsv\"\n",
    "PROJECTOR_META_PATH =os.path.join(PROJECTOR_DIR,PROJECTOR_META_FILENAME)\n",
    "if not os.path.exists(PROJECTOR_META_PATH):\n",
    "    test_images_labels = np.argmax(mnist.test.labels[:image_num],1)\n",
    "    os.makedirs(PROJECTOR_DIR,exist_ok=True)\n",
    "    with open(PROJECTOR_META_PATH,'w') as f:\n",
    "        for i in range(image_num):\n",
    "            f.write(str(test_images_labels[i]) + '\\n')"
   ]
  },
  {
   "cell_type": "code",
   "execution_count": 7,
   "metadata": {},
   "outputs": [
    {
     "name": "stdout",
     "output_type": "stream",
     "text": [
      "width = 1680 pixels, height=1680 pixels,  rows=60.0,  cols=60.0\n"
     ]
    }
   ],
   "source": [
    "from PIL import Image\n",
    "#导出sprite.png\n",
    "SPRITE_PNG_IMAGE = \"sprites_image.png\"\n",
    "SPRITE_PNG_PATH = os.path.join(PROJECTOR_DIR,SPRITE_PNG_IMAGE)\n",
    "\n",
    "if not os.path.exists(SPRITE_PNG_PATH):\n",
    "    sprite_image_data = []\n",
    "    for row in np.arange(image_rows):\n",
    "        col_datas = []\n",
    "        for col in np.arange(image_cols):\n",
    "            data_index = col + row*image_cols\n",
    "            col_data = stack_pre_data[data_index]\n",
    "            col_data = np.reshape(col_data,(28,28))\n",
    "            col_datas.append(col_data)\n",
    "        row_data = np.concatenate(col_datas,axis=1)\n",
    "        sprite_image_data.append(row_data)\n",
    "    sprite_image_data = np.concatenate(sprite_image_data,axis=0)\n",
    "    sprite_image_data = 0.001 - sprite_image_data\n",
    "    #mode_list = ['1', 'L', 'I', 'F', 'P', 'RGB', 'RGBA', 'CMYK', 'YCbCr' ]\n",
    "    sprite_image = Image.fromarray(sprite_image_data,\"I\")   #I表示一个像素一个int值\n",
    "\n",
    "    sprite_image.save(SPRITE_PNG_PATH,\"png\") \n",
    "    print(\"width = {} pixels, height={} pixels,  rows={},  cols={}\".format(sprite_image.width,sprite_image.height,sprite_image.height/28,sprite_image.width/28))"
   ]
  },
  {
   "cell_type": "code",
   "execution_count": 6,
   "metadata": {},
   "outputs": [
    {
     "name": "stdout",
     "output_type": "stream",
     "text": [
      "Iter 0, Testing Accuracy= 0.1955\n",
      "Iter 100, Testing Accuracy= 0.9089\n",
      "Iter 200, Testing Accuracy= 0.9316\n",
      "Iter 300, Testing Accuracy= 0.9379\n",
      "Iter 400, Testing Accuracy= 0.9478\n",
      "Iter 500, Testing Accuracy= 0.9539\n",
      "Iter 600, Testing Accuracy= 0.9562\n",
      "Iter 700, Testing Accuracy= 0.9623\n",
      "Iter 800, Testing Accuracy= 0.9648\n",
      "Iter 900, Testing Accuracy= 0.9663\n",
      "Iter 1000, Testing Accuracy= 0.9673\n",
      "Iter 1100, Testing Accuracy= 0.968\n",
      "Iter 1200, Testing Accuracy= 0.9712\n",
      "Iter 1300, Testing Accuracy= 0.9705\n",
      "Iter 1400, Testing Accuracy= 0.9713\n",
      "Iter 1500, Testing Accuracy= 0.9717\n",
      "Iter 1600, Testing Accuracy= 0.9737\n",
      "Iter 1700, Testing Accuracy= 0.9737\n",
      "Iter 1800, Testing Accuracy= 0.9747\n",
      "Iter 1900, Testing Accuracy= 0.975\n",
      "Iter 2000, Testing Accuracy= 0.9753\n",
      "Iter 2100, Testing Accuracy= 0.9756\n",
      "Iter 2200, Testing Accuracy= 0.9755\n",
      "Iter 2300, Testing Accuracy= 0.9764\n",
      "Iter 2400, Testing Accuracy= 0.9779\n",
      "Iter 2500, Testing Accuracy= 0.9763\n",
      "Iter 2600, Testing Accuracy= 0.9769\n",
      "Iter 2700, Testing Accuracy= 0.9769\n",
      "Iter 2800, Testing Accuracy= 0.977\n",
      "Iter 2900, Testing Accuracy= 0.9777\n"
     ]
    }
   ],
   "source": [
    "batch_size = 1024\n",
    "# 运行次数\n",
    "max_steps = 3000\n",
    "\n",
    "# 定义配置文件\n",
    "config = projector.ProjectorConfig()\n",
    "embed = config.embeddings.add()\n",
    "embed.tensor_name = embedding.name\n",
    "embed.metadata_path = PROJECTOR_META_FILENAME   #labels   相对于FileWriter目录的路径\n",
    "embed.sprite.image_path = SPRITE_PNG_IMAGE      #images   相对于FileWriter目录的路径\n",
    "# 切分图片\n",
    "embed.sprite.single_image_dim.extend([28,28])\n",
    "\n",
    "with tf.Session() as sess:\n",
    "    sess.run(tf.global_variables_initializer())\n",
    "    with tf.summary.FileWriter(PROJECTOR_DIR,sess.graph) as logWriter:\n",
    "        projector.visualize_embeddings(logWriter, config)       #需要Metadata，embedding,config,saver导出为model.ckpt\n",
    "        for i in range(max_steps):\n",
    "            batch_xs,batch_ys = mnist.train.next_batch(batch_size)\n",
    "            run_options = tf.RunOptions(trace_level=tf.RunOptions.FULL_TRACE)\n",
    "            run_metadata = tf.RunMetadata()\n",
    "            summary,_  = sess.run([merged, train_step], feed_dict={x:batch_xs,y:batch_ys}, options=run_options, run_metadata=run_metadata)\n",
    "            logWriter.add_run_metadata(run_metadata,'step%03d' % i,i)\n",
    "            logWriter.add_summary(summary, i)\n",
    "            if i%100 == 0:\n",
    "                acc = sess.run(accuracy, feed_dict={x:mnist.test.images, y:mnist.test.labels})\n",
    "                print(\"Iter \" + str(i) + \", Testing Accuracy= \" + str(acc))\n",
    "    saver.save(sess,os.path.join(PROJECTOR_DIR,\"model.ckpt\"),max_steps)"
   ]
  }
 ],
 "metadata": {
  "kernelspec": {
   "display_name": "Python 3",
   "language": "python",
   "name": "python3"
  },
  "language_info": {
   "codemirror_mode": {
    "name": "ipython",
    "version": 3
   },
   "file_extension": ".py",
   "mimetype": "text/x-python",
   "name": "python",
   "nbconvert_exporter": "python",
   "pygments_lexer": "ipython3",
   "version": "3.7.1"
  },
  "toc": {
   "base_numbering": 1,
   "nav_menu": {},
   "number_sections": true,
   "sideBar": true,
   "skip_h1_title": false,
   "title_cell": "Table of Contents",
   "title_sidebar": "Contents",
   "toc_cell": false,
   "toc_position": {},
   "toc_section_display": true,
   "toc_window_display": false
  }
 },
 "nbformat": 4,
 "nbformat_minor": 2
}
