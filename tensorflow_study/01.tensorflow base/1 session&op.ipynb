{
 "cells": [
  {
   "cell_type": "code",
   "execution_count": 1,
   "metadata": {},
   "outputs": [
    {
     "name": "stdout",
     "output_type": "stream",
     "text": [
      "Tensor(\"Const:0\", shape=(1, 2), dtype=int32)\n",
      "Tensor(\"Const_1:0\", shape=(2, 1), dtype=int32)\n",
      "Tensor(\"Const_2:0\", shape=(), dtype=int32)\n",
      "Tensor(\"MatMul:0\", shape=(1, 1), dtype=int32)\n",
      "Tensor(\"mul:0\", shape=(1, 1), dtype=int32)\n"
     ]
    }
   ],
   "source": [
    "import tensorflow as tf\n",
    "#mat 1*2\n",
    "m1 = tf.constant([[3,3]])\n",
    "print(m1)\n",
    "#mat 2*1\n",
    "m2 = tf.constant([[2],[3]])\n",
    "print(m2)\n",
    "scatter = tf.constant(4)\n",
    "print(scatter)\n",
    "product = tf.matmul(m1,m2)\n",
    "print(product)\n",
    "result = product * scatter\n",
    "print(result)"
   ]
  },
  {
   "cell_type": "code",
   "execution_count": 2,
   "metadata": {},
   "outputs": [
    {
     "name": "stdout",
     "output_type": "stream",
     "text": [
      "[[60]]\n"
     ]
    }
   ],
   "source": [
    "sess = tf.Session()\n",
    "result_value = sess.run(result) #(3*2+3*3) * 4 = 60\n",
    "print(result_value)\n",
    "sess.close()"
   ]
  },
  {
   "cell_type": "code",
   "execution_count": 3,
   "metadata": {},
   "outputs": [
    {
     "name": "stdout",
     "output_type": "stream",
     "text": [
      "[[60]]\n"
     ]
    }
   ],
   "source": [
    "with tf.Session() as sess:\n",
    "    result_value = sess.run(result)\n",
    "    print(result_value)"
   ]
  }
 ],
 "metadata": {
  "kernelspec": {
   "display_name": "Python 3",
   "language": "python",
   "name": "python3"
  },
  "language_info": {
   "codemirror_mode": {
    "name": "ipython",
    "version": 3
   },
   "file_extension": ".py",
   "mimetype": "text/x-python",
   "name": "python",
   "nbconvert_exporter": "python",
   "pygments_lexer": "ipython3",
   "version": "3.7.1"
  },
  "toc": {
   "base_numbering": 1,
   "nav_menu": {},
   "number_sections": true,
   "sideBar": true,
   "skip_h1_title": false,
   "title_cell": "Table of Contents",
   "title_sidebar": "Contents",
   "toc_cell": false,
   "toc_position": {},
   "toc_section_display": true,
   "toc_window_display": false
  }
 },
 "nbformat": 4,
 "nbformat_minor": 2
}
