{
 "cells": [
  {
   "cell_type": "code",
   "execution_count": 1,
   "metadata": {},
   "outputs": [],
   "source": [
    "import tensorflow as tf\n",
    "import numpy as np\n",
    "import os\n",
    "import time\n",
    "import datetime\n",
    "import data_helpers\n",
    "from text_cnn import TextCNN\n",
    "from tensorflow.contrib import learn\n",
    "import csv"
   ]
  },
  {
   "cell_type": "code",
   "execution_count": 2,
   "metadata": {},
   "outputs": [
    {
     "name": "stdout",
     "output_type": "stream",
     "text": [
      "WARNING:tensorflow:From F:\\Anaconda\\lib\\site-packages\\tensorflow\\contrib\\learn\\python\\learn\\preprocessing\\text.py:203: tokenizer (from tensorflow.contrib.learn.python.learn.preprocessing.text) is deprecated and will be removed in a future version.\n",
      "Instructions for updating:\n",
      "Please use tensorflow/transform or tf.data.\n"
     ]
    }
   ],
   "source": [
    "TARGET_DIR = \"./runs/1560327157/\"\n",
    "POSITIVE_DATA_FILE = \"./data/rt-polaritydata/rt-polarity.pos\"\n",
    "NEGATIVE_DATA_FILE = \"./data/rt-polaritydata/rt-polarity.neg\"\n",
    "BATCH_SIZE = 1024\n",
    "\n",
    "x_raw, y_test = data_helpers.load_data_and_labels(POSITIVE_DATA_FILE, NEGATIVE_DATA_FILE)\n",
    "x_raw.append(\"hello world\")\n",
    "y_test =  np.row_stack((y_test,(0,1)))\n",
    "y_test = np.argmax(y_test, axis=1)\n",
    "\n",
    "# Map data into vocabulary\n",
    "vocab_path = os.path.join(TARGET_DIR, \"vocab\")\n",
    "vocab_processor = learn.preprocessing.VocabularyProcessor.restore(vocab_path)\n",
    "x_test = np.array(list(vocab_processor.transform(x_raw)))"
   ]
  },
  {
   "cell_type": "code",
   "execution_count": 3,
   "metadata": {},
   "outputs": [
    {
     "name": "stdout",
     "output_type": "stream",
     "text": [
      "\n",
      "Evaluating...\n",
      "\n",
      "WARNING:tensorflow:From F:\\Anaconda\\lib\\site-packages\\tensorflow\\python\\training\\saver.py:1266: checkpoint_exists (from tensorflow.python.training.checkpoint_management) is deprecated and will be removed in a future version.\n",
      "Instructions for updating:\n",
      "Use standard file APIs to check for files with this prefix.\n",
      "INFO:tensorflow:Restoring parameters from F:\\JupyterRoot\\DL_Parctise\\tensorflow_study\\14.cnn text classification\\runs\\1560327157\\checkpoints\\model-1400\n",
      "num_batches_per_epoch: 11\n",
      "Total number of test examples: 10663\n",
      "Accuracy: 0.973084\n",
      "Saving evaluation to ./runs/1560327157/prediction.csv\n"
     ]
    }
   ],
   "source": [
    "print(\"\\nEvaluating...\\n\")\n",
    "\n",
    "checkpoint_file = tf.train.latest_checkpoint(os.path.join(TARGET_DIR,\"checkpoints\"))\n",
    "\n",
    "with tf.Session() as sess:\n",
    "     # Load the saved meta graph and restore variables\n",
    "    saver = tf.train.import_meta_graph(\"{}.meta\".format(checkpoint_file))\n",
    "    saver.restore(sess, checkpoint_file)\n",
    "\n",
    "    # Get the placeholders from the graph by name\n",
    "    input_x = sess.graph.get_tensor_by_name(\"input_x:0\")\n",
    "    \n",
    "    dropout_keep_prob = sess.graph.get_tensor_by_name(\"dropout_keep_prob:0\")\n",
    "\n",
    "    # Tensors we want to evaluate\n",
    "    predictions = sess.graph.get_tensor_by_name(\"output/predictions:0\")\n",
    "\n",
    "    # Generate batches for one epoch\n",
    "    batches = data_helpers.batch_iter(list(x_test), BATCH_SIZE, 1, shuffle=False)\n",
    "\n",
    "    # Collect the predictions here\n",
    "    all_predictions = []\n",
    "\n",
    "    for x_test_batch in batches:\n",
    "        batch_predictions = sess.run(predictions, {input_x: x_test_batch, dropout_keep_prob: 1.0})\n",
    "        all_predictions = np.concatenate([all_predictions, batch_predictions])\n",
    "\n",
    "#Print accuracy if y_test is defined\n",
    "if y_test is not None:\n",
    "    correct_predictions = float(sum(all_predictions == y_test))\n",
    "    print(\"Total number of test examples: {}\".format(len(y_test)))\n",
    "    print(\"Accuracy: {:g}\".format(correct_predictions/float(len(y_test))))\n",
    "\n",
    "# Save the evaluation to a csv\n",
    "predictions_human_readable = np.column_stack((np.array(x_raw), all_predictions,y_test))\n",
    "out_path = os.path.join(TARGET_DIR, \"prediction.csv\")\n",
    "print(\"Saving evaluation to {0}\".format(out_path))\n",
    "with open(out_path, 'w') as f:\n",
    "    csv.writer(f).writerows(((\"Sentence\",\"Prediction\",\"Label\"),))\n",
    "    csv.writer(f).writerows(predictions_human_readable)"
   ]
  }
 ],
 "metadata": {
  "kernelspec": {
   "display_name": "Python 3",
   "language": "python",
   "name": "python3"
  },
  "language_info": {
   "codemirror_mode": {
    "name": "ipython",
    "version": 3
   },
   "file_extension": ".py",
   "mimetype": "text/x-python",
   "name": "python",
   "nbconvert_exporter": "python",
   "pygments_lexer": "ipython3",
   "version": "3.7.1"
  },
  "toc": {
   "base_numbering": 1,
   "nav_menu": {},
   "number_sections": true,
   "sideBar": true,
   "skip_h1_title": false,
   "title_cell": "Table of Contents",
   "title_sidebar": "Contents",
   "toc_cell": false,
   "toc_position": {},
   "toc_section_display": true,
   "toc_window_display": false
  }
 },
 "nbformat": 4,
 "nbformat_minor": 2
}
