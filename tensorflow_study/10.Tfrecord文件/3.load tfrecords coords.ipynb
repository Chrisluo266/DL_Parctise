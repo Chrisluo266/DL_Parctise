{
 "cells": [
  {
   "cell_type": "code",
   "execution_count": 12,
   "metadata": {},
   "outputs": [],
   "source": [
    "import tensorflow as tf\n",
    "from simple_cnn_to_mnist import CNN_MNIST_MODEL"
   ]
  },
  {
   "cell_type": "code",
   "execution_count": 16,
   "metadata": {},
   "outputs": [],
   "source": [
    "def read_tf_iterator(path,batch_size,is_shuffle_batch):\n",
    "    tensor_path = tf.train.string_input_producer([path])\n",
    "    tfreader = tf.TFRecordReader()\n",
    "    _,serialstring = tfreader.read(tensor_path)\n",
    "    feature = {\n",
    "        'raw':tf.FixedLenFeature([],tf.string),\n",
    "        \"label\":tf.FixedLenFeature([],tf.int64),\n",
    "    }\n",
    "    feature_tensor = tf.parse_single_example(serialstring,feature)\n",
    "    image_tensor = tf.decode_raw(feature_tensor[\"raw\"],tf.float32)\n",
    "    image_tensor = tf.reshape(image_tensor, [28, 28, 1])\n",
    "    label_tensor = tf.one_hot(feature_tensor[\"label\"],10,1,0)\n",
    "    if is_shuffle_batch >0:\n",
    "        return tf.train.shuffle_batch([image_tensor,label_tensor],batch_size,32,31,15)\n",
    "    else:\n",
    "        return tf.train.batch([image_tensor,label_tensor],batch_size,100)"
   ]
  },
  {
   "cell_type": "code",
   "execution_count": 17,
   "metadata": {},
   "outputs": [],
   "source": [
    "tf.reset_default_graph()\n",
    "input_x = tf.placeholder(tf.float32,(None,28,28,1))\n",
    "input_y = tf.placeholder(tf.float32,(None,10))\n",
    "cnn_model = CNN_MNIST_MODEL(input_x,input_y,0.001,0.98,50)\n",
    "prediction = cnn_model.forward()\n",
    "train_op,loss,learning_rate,global_step,accuracy = cnn_model.train()"
   ]
  },
  {
   "cell_type": "code",
   "execution_count": 18,
   "metadata": {},
   "outputs": [
    {
     "name": "stdout",
     "output_type": "stream",
     "text": [
      "(1024, 28, 28, 1)\n",
      "(1024, 10)\n",
      "Val[100/3000]: loss=558.01123046875, learning_rate=0.0009604000370018184, accuracy = 0.9675999879837036, global_step=100\n",
      "Val[200/3000]: loss=334.6209716796875, learning_rate=0.0009223681990988553, accuracy = 0.9818000197410583, global_step=200\n",
      "Val[300/3000]: loss=268.77593994140625, learning_rate=0.0008858424844220281, accuracy = 0.9846000075340271, global_step=300\n",
      "Val[400/3000]: loss=252.91165161132812, learning_rate=0.0008507631719112396, accuracy = 0.9855999946594238, global_step=400\n",
      "Val[500/3000]: loss=221.6634521484375, learning_rate=0.0008170729852281511, accuracy = 0.9869999885559082, global_step=500\n",
      "Val[600/3000]: loss=240.51824951171875, learning_rate=0.0007847169181331992, accuracy = 0.9869999885559082, global_step=600\n",
      "Val[700/3000]: loss=209.59498596191406, learning_rate=0.0007536421762779355, accuracy = 0.9879999756813049, global_step=700\n",
      "Val[800/3000]: loss=207.44708251953125, learning_rate=0.0007237979443743825, accuracy = 0.9883999824523926, global_step=800\n",
      "Val[900/3000]: loss=227.68048095703125, learning_rate=0.0006951355608180165, accuracy = 0.9879999756813049, global_step=900\n",
      "Val[1000/3000]: loss=193.8389129638672, learning_rate=0.0006676082848571241, accuracy = 0.9891999959945679, global_step=1000\n",
      "Val[1100/3000]: loss=200.91378784179688, learning_rate=0.0006411710055544972, accuracy = 0.9883999824523926, global_step=1100\n",
      "Val[1200/3000]: loss=181.5540771484375, learning_rate=0.0006157807074487209, accuracy = 0.9904000163078308, global_step=1200\n",
      "Val[1300/3000]: loss=190.7212677001953, learning_rate=0.000591395772062242, accuracy = 0.9904000163078308, global_step=1300\n",
      "Val[1400/3000]: loss=177.14019775390625, learning_rate=0.0005679765017703176, accuracy = 0.9914000034332275, global_step=1400\n",
      "Val[1500/3000]: loss=182.2671661376953, learning_rate=0.0005454847123473883, accuracy = 0.9901999831199646, global_step=1500\n",
      "Val[1600/3000]: loss=176.87478637695312, learning_rate=0.000523883500136435, accuracy = 0.9914000034332275, global_step=1600\n",
      "Val[1700/3000]: loss=179.97183227539062, learning_rate=0.0005031377077102661, accuracy = 0.989799976348877, global_step=1700\n",
      "Val[1800/3000]: loss=190.256103515625, learning_rate=0.00048321348731406033, accuracy = 0.9900000095367432, global_step=1800\n",
      "Val[1900/3000]: loss=198.986572265625, learning_rate=0.00046407824265770614, accuracy = 0.9900000095367432, global_step=1900\n",
      "Val[2000/3000]: loss=190.46055603027344, learning_rate=0.00044570074533112347, accuracy = 0.9909999966621399, global_step=2000\n",
      "Val[2100/3000]: loss=185.13214111328125, learning_rate=0.0004280510183889419, accuracy = 0.991599977016449, global_step=2100\n",
      "Val[2200/3000]: loss=193.1288604736328, learning_rate=0.00041110021993517876, accuracy = 0.9908000230789185, global_step=2200\n",
      "Val[2300/3000]: loss=180.03561401367188, learning_rate=0.00039482067222706974, accuracy = 0.9922000169754028, global_step=2300\n",
      "Val[2400/3000]: loss=180.85592651367188, learning_rate=0.00037918577436357737, accuracy = 0.9914000034332275, global_step=2400\n",
      "Val[2500/3000]: loss=198.22914123535156, learning_rate=0.00036417003138922155, accuracy = 0.9908000230789185, global_step=2500\n",
      "Val[2600/3000]: loss=192.9744110107422, learning_rate=0.0003497489378787577, accuracy = 0.991599977016449, global_step=2600\n",
      "Val[2700/3000]: loss=187.36492919921875, learning_rate=0.00033589889062568545, accuracy = 0.9922000169754028, global_step=2700\n",
      "Val[2800/3000]: loss=196.77944946289062, learning_rate=0.00032259730505757034, accuracy = 0.9914000034332275, global_step=2800\n",
      "Val[2900/3000]: loss=193.63003540039062, learning_rate=0.0003098224406130612, accuracy = 0.991599977016449, global_step=2900\n",
      "Val[3000/3000]: loss=187.12689208984375, learning_rate=0.00029755348805338144, accuracy = 0.9919999837875366, global_step=3000\n",
      "Test[3000/3000]: loss=337.7127685546875, learning_rate=0.00029755348805338144, accuracy = 0.9900000095367432, global_step=3000\n"
     ]
    }
   ],
   "source": [
    "EPOCH = 3000\n",
    "train_batch_size = 1024\n",
    "\n",
    "batch_train_image_tensor,batch_train_label_tensor = read_tf_iterator(\"tfrecords/train.tf\",train_batch_size,True)\n",
    "val_image_tensor,val_label_tensor = read_tf_iterator(\"tfrecords/val.tf\",5000,False)\n",
    "test_image_tensor,test_label_tensor = read_tf_iterator(\"tfrecords/test.tf\",10000,False)\n",
    "print(batch_train_image_tensor.shape)\n",
    "print(batch_train_label_tensor.shape)\n",
    "\n",
    "with tf.Session() as sess:\n",
    "    sess.run(tf.global_variables_initializer())\n",
    "    coord = tf.train.Coordinator()\n",
    "    threads = tf.train.start_queue_runners(sess,coord)\n",
    "    val_images,val_labels = sess.run([val_image_tensor,val_label_tensor])\n",
    "    for epoch in range(EPOCH):\n",
    "        train_batch_images,train_batch_labels = sess.run([batch_train_image_tensor,batch_train_label_tensor])\n",
    "        sess.run(train_op,feed_dict={input_x:train_batch_images,input_y:train_batch_labels})\n",
    "        if (epoch+1) % 100 == 0:\n",
    "            ls,lr,gs,acc = sess.run([loss,learning_rate,global_step,accuracy],feed_dict={input_x:val_images,input_y:val_labels})\n",
    "            print(\"Val[{}/{}]: loss={}, learning_rate={}, accuracy = {}, global_step={}\".format(epoch+1,EPOCH,ls,lr,acc,gs))\n",
    "    test_images,test_labels = sess.run([test_image_tensor,test_label_tensor])\n",
    "    ls,lr,gs,acc = sess.run([loss,learning_rate,global_step,accuracy],feed_dict={input_x:test_images,input_y:test_labels})\n",
    "    print(\"Test[{}/{}]: loss={}, learning_rate={}, accuracy = {}, global_step={}\".format(epoch+1,EPOCH,ls,lr,acc,gs))\n",
    "    coord.request_stop()\n",
    "    coord.join()"
   ]
  }
 ],
 "metadata": {
  "kernelspec": {
   "display_name": "Python 3",
   "language": "python",
   "name": "python3"
  },
  "language_info": {
   "codemirror_mode": {
    "name": "ipython",
    "version": 3
   },
   "file_extension": ".py",
   "mimetype": "text/x-python",
   "name": "python",
   "nbconvert_exporter": "python",
   "pygments_lexer": "ipython3",
   "version": "3.7.1"
  },
  "toc": {
   "base_numbering": 1,
   "nav_menu": {},
   "number_sections": true,
   "sideBar": true,
   "skip_h1_title": false,
   "title_cell": "Table of Contents",
   "title_sidebar": "Contents",
   "toc_cell": false,
   "toc_position": {},
   "toc_section_display": true,
   "toc_window_display": false
  }
 },
 "nbformat": 4,
 "nbformat_minor": 2
}
