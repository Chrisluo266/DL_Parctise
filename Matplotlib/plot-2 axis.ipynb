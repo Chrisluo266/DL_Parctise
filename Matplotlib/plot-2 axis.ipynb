{
 "cells": [
  {
   "cell_type": "code",
   "execution_count": 1,
   "metadata": {},
   "outputs": [
    {
     "data": {
      "text/plain": [
       "<Figure size 1000x500 with 1 Axes>"
      ]
     },
     "metadata": {},
     "output_type": "display_data"
    }
   ],
   "source": [
    "import pylab as plt\n",
    "import numpy as np\n",
    "x1 = np.linspace(-1,1,1000)\n",
    "y1 = 10*x1**2-5\n",
    "\n",
    "x2 = x1\n",
    "y2 = 2*x1+1\n",
    "\n",
    "plt.figure(figsize=[10,5])   #figsize是宽度和长度，\n",
    "plt.plot(x1,y1,linewidth=0.5)\n",
    "plt.plot(x2,y2,color='#ff0000',linestyle='--')\n",
    "#限制x,y轴的取值范围\n",
    "plt.xlim((-2,2))\n",
    "plt.ylim((-10,10))\n",
    "#设置轴label\n",
    "plt.xlabel(\"X-axis\")\n",
    "plt.ylabel(\"Y-axis\")\n",
    "#设置轴标,原来是0.5间隔，现在改为1间隔。注意这里比上面的取值范围还多出来一个2.5，实际这个2.5也可以在轴上显示\n",
    "x_ticks = [-2,-1,0,1,2,2.5]\n",
    "plt.xticks(x_ticks)\n",
    "y_ticks = [-10,-5,0,5,10]\n",
    "#$***$，相当于换成斜体， $\\\\alpha$可以表示字母α\n",
    "y_ticks_labels = [\"$\\\\alpha$\",\"bad\",\"normal\",\"$good$\",\"$very good$\"]\n",
    "plt.yticks(y_ticks,y_ticks_labels)\n",
    "\n",
    "plt.show()"
   ]
  },
  {
   "cell_type": "code",
   "execution_count": 2,
   "metadata": {},
   "outputs": [
    {
     "data": {
      "image/png": "[encoded data removed]",
      "text/plain": [
       "<Figure size 432x288 with 1 Axes>"
      ]
     },
     "metadata": {
      "needs_background": "light"
     },
     "output_type": "display_data"
    }
   ],
   "source": [
    "#挪动轴的位置\n",
    "plt.figure()\n",
    "plt.plot(x1,y1,linewidth=0.5)\n",
    "plt.plot(x2,y2,color='#ff0000',linestyle='--')\n",
    "#plt.xlabel(\"X-axis\")\n",
    "#plt.ylabel(\"Y-axis\")\n",
    "y_ticks = np.arange(-5,6,1)\n",
    "y_ticks_labels = list(\"ABCDEFGHIJK\")\n",
    "plt.yticks(y_ticks,y_ticks_labels)\n",
    "#get_current_axis\n",
    "ax = plt.gca()\n",
    "ax.spines[\"right\"].set_color('#00000000')   #RGBA\n",
    "ax.spines[\"top\"].set_color('#00000000')   #RGBA\n",
    "#ax.xaxis.set_ticks_position(\"bottom\")\n",
    "#ax.yaxis.set_ticks_position(\"left\")\n",
    "ax.spines[\"bottom\"].set_position(('data',0))  #data,outward,axes(percent)\n",
    "ax.spines[\"left\"].set_position(('data',0))\n",
    "plt.show()"
   ]
  }
 ],
 "metadata": {
  "kernelspec": {
   "display_name": "Python 3",
   "language": "python",
   "name": "python3"
  },
  "language_info": {
   "codemirror_mode": {
    "name": "ipython",
    "version": 3
   },
   "file_extension": ".py",
   "mimetype": "text/x-python",
   "name": "python",
   "nbconvert_exporter": "python",
   "pygments_lexer": "ipython3",
   "version": "3.7.1"
  },
  "toc": {
   "base_numbering": 1,
   "nav_menu": {},
   "number_sections": true,
   "sideBar": true,
   "skip_h1_title": false,
   "title_cell": "Table of Contents",
   "title_sidebar": "Contents",
   "toc_cell": false,
   "toc_position": {},
   "toc_section_display": true,
   "toc_window_display": false
  }
 },
 "nbformat": 4,
 "nbformat_minor": 2
}
